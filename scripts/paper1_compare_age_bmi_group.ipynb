{
 "cells": [
  {
   "cell_type": "code",
   "execution_count": 1,
   "id": "768cffce-6563-4c4b-8024-315eb71bcf7f",
   "metadata": {},
   "outputs": [
    {
     "name": "stderr",
     "output_type": "stream",
     "text": [
      "C:\\Users\\jackz\\.conda\\envs\\PEARL\\Lib\\site-packages\\dask\\dataframe\\_pyarrow_compat.py:17: FutureWarning: Minimal version of pyarrow will soon be increased to 14.0.1. You are using 11.0.0. Please consider upgrading.\n",
      "  warnings.warn(\n"
     ]
    }
   ],
   "source": [
    "# declare imports\n",
    "import argparse\n",
    "from datetime import datetime\n",
    "from pathlib import Path\n",
    "import os\n",
    "import sys\n",
    "import dask.dataframe as dd\n",
    "import matplotlib as mpl\n",
    "import matplotlib.pyplot as plt\n",
    "import numpy as np\n",
    "import pandas as pd\n",
    "import seaborn as sns\n",
    "\n",
    "path_to_functions = os.path.abspath(\"../src\")\n",
    "\n",
    "# Add this folder to the system path\n",
    "sys.path.append(path_to_functions)\n",
    "\n",
    "from pearl.post_processing.bmi import (\n",
    "    add_summary,\n",
    "    calc_overall_risk,\n",
    "    calc_percentage,\n",
    "    calc_percentage_and_add_summary,\n",
    "    calc_risk_by_group,\n",
    "    clean_control,\n",
    "    create_summary_table,\n",
    "    group_order,\n",
    "    group_order_with_sub_total,\n",
    "    group_title_dict,\n",
    "    palette,\n",
    "    rearrange_group_order,\n",
    "    round_thousand,\n",
    "    calc_dm_prop,\n",
    "    add_sub_total\n",
    ")\n",
    "\n",
    "start_time = datetime.now()\n",
    "df_summary_dict = {}\n",
    "\n",
    "# Define the argument parser\n",
    "\n",
    "baseline_dir = Path('../out/S0_10/combined')\n",
    "variable_dir = Path('../out/S3_10/combined')\n",
    "out_dir = Path('../results')\n",
    "\n",
    "start_year = 2013\n",
    "end_year = 2017"
   ]
  },
  {
   "cell_type": "markdown",
   "id": "4c82b8ab-2afb-4762-be0b-d052b3a80fee",
   "metadata": {},
   "source": [
    "# Function"
   ]
  },
  {
   "cell_type": "code",
   "execution_count": 2,
   "id": "ae9234ec-930b-4801-9a00-1a35df296fb5",
   "metadata": {},
   "outputs": [],
   "source": [
    "def calc_overall_bmi_risk(df: pd.DataFrame, years_follow_up: int = 7) -> pd.DataFrame:\n",
    "    # filter for only overall group\n",
    "    df_overall = df[df[\"group\"] == \"overall\"]\n",
    "\n",
    "    # filter for only follow_up-year follow up with dm\n",
    "    df_overall_follow_up = df_overall.loc[\n",
    "        (df_overall[\"years_after_h1yy\"] > 0) & (df_overall[\"years_after_h1yy\"] <= years_follow_up)\n",
    "    ]\n",
    "\n",
    "    # group by replication and age group and sum\n",
    "    df_overall_follow_up_sum = (\n",
    "        df_overall_follow_up.groupby([\"init_bmi_group\", \"replication\"])[\"n\"].sum().reset_index()\n",
    "    )\n",
    "    df_overall_follow_up_sum = df_overall_follow_up_sum.rename(columns={\"n\": \"dm_num\"})\n",
    "\n",
    "    # now for the denominator\n",
    "    # First adjust people died in the same year of art initiation\n",
    "    df_overall[\"time_exposure_to_risk\"] = df_overall[\"time_exposure_to_risk\"].where(\n",
    "        df_overall[\"time_exposure_to_risk\"] == 0, 1\n",
    "    )\n",
    "\n",
    "    # Second adjust people survive from simulation\n",
    "    df_overall[\"time_exposure_to_risk\"] = df_overall[\"time_exposure_to_risk\"].where(\n",
    "        df_overall[\"time_exposure_to_risk\"] < 0, years_follow_up\n",
    "    )\n",
    "\n",
    "    # Third adjust people survived through follow-up period\n",
    "    df_overall[\"time_exposure_to_risk\"] = df_overall[\"time_exposure_to_risk\"].where(\n",
    "        df_overall[\"time_exposure_to_risk\"] > years_follow_up, years_follow_up\n",
    "    )\n",
    "\n",
    "    # Calculate person-time variable\n",
    "    df_overall[\"person-time-contributed\"] = df_overall[\"n\"] * df_overall[\"time_exposure_to_risk\"]\n",
    "\n",
    "    # group by replication and age group and sum\n",
    "    df_overall_follow_up_sum_total = (\n",
    "        df_overall.groupby([\"init_bmi_group\", \"replication\"])[[\"person-time-contributed\", \"n\"]]\n",
    "        .sum()\n",
    "        .reset_index()\n",
    "    )\n",
    "    df_overall_follow_up_sum_total = df_overall_follow_up_sum_total.rename(columns={\"n\": \"num\"})\n",
    "\n",
    "    # create risk table and calculate risk\n",
    "    dm_risk_table = dd.merge(  # type: ignore [attr-defined]\n",
    "        df_overall_follow_up_sum, df_overall_follow_up_sum_total, how=\"left\"\n",
    "    )\n",
    "    dm_risk_table[\"risk\"] = dm_risk_table[\"dm_num\"] / dm_risk_table[\"person-time-contributed\"]\n",
    "\n",
    "    dm_risk_table[\"risk\"] = dm_risk_table[\"risk\"] * 1000\n",
    "\n",
    "    return dm_risk_table"
   ]
  },
  {
   "cell_type": "markdown",
   "id": "476f0cde-d180-43ec-96e1-89658e5e5f04",
   "metadata": {},
   "source": [
    "# Age Group"
   ]
  },
  {
   "cell_type": "code",
   "execution_count": 3,
   "id": "9c5fbcc8-2ee9-4969-b145-65a5ba1db321",
   "metadata": {},
   "outputs": [],
   "source": [
    "##################################################################################################################################\n",
    "# we will look at the \"bmi_int_dm_prev.h5\" for S0\n",
    "bmi_int_dm_prev = dd.read_parquet(baseline_dir / \"dm_final_output.parquet\").reset_index()\n",
    "\n",
    "# Add Overall\n",
    "all_but_group = list(bmi_int_dm_prev.columns[1:])\n",
    "bmi_int_dm_prev_overall = bmi_int_dm_prev.groupby(all_but_group).sum().reset_index()\n",
    "bmi_int_dm_prev_overall[\"group\"] = \"overall\"\n",
    "bmi_int_dm_prev = dd.concat([bmi_int_dm_prev, bmi_int_dm_prev_overall], ignore_index=True)\n",
    "\n",
    "# type the dataframe for space efficiency\n",
    "bmi_int_dm_prev = bmi_int_dm_prev.astype(\n",
    "    {\n",
    "        \"group\": \"str\",\n",
    "        \"replication\": \"int16\",\n",
    "        \"bmiInt_scenario\": np.int8,\n",
    "        \"h1yy\": np.int16,\n",
    "        \"init_age_group\": np.int8,\n",
    "        \"bmiInt_impacted\": bool,\n",
    "        \"dm\": bool,\n",
    "        \"t_dm\": np.int16,\n",
    "        \"n\": np.int16,\n",
    "    }\n",
    ")\n",
    "\n",
    "# clean to control specifications\n",
    "control_bmi_int_dm_prev = clean_control(bmi_int_dm_prev, only_eligible=True, only_received = True)\n",
    "\n",
    "# Figure 2A\n",
    "dm_risk_table = calc_overall_risk(control_bmi_int_dm_prev).compute()"
   ]
  },
  {
   "cell_type": "code",
   "execution_count": 4,
   "id": "c7de1c59-bea8-4349-a242-b45e68689260",
   "metadata": {},
   "outputs": [],
   "source": [
    "##################################################################################################################################\n",
    "# we will look at the \"bmi_int_dm_prev.h5\" for S0\n",
    "bmi_int_dm_prev = dd.read_parquet(variable_dir / \"dm_final_output.parquet\").reset_index()\n",
    "\n",
    "# Add Overall\n",
    "all_but_group = list(bmi_int_dm_prev.columns[1:])\n",
    "bmi_int_dm_prev_overall = bmi_int_dm_prev.groupby(all_but_group).sum().reset_index()\n",
    "bmi_int_dm_prev_overall[\"group\"] = \"overall\"\n",
    "bmi_int_dm_prev = dd.concat([bmi_int_dm_prev, bmi_int_dm_prev_overall], ignore_index=True)\n",
    "\n",
    "# type the dataframe for space efficiency\n",
    "bmi_int_dm_prev = bmi_int_dm_prev.astype(\n",
    "    {\n",
    "        \"group\": \"str\",\n",
    "        \"replication\": \"int16\",\n",
    "        \"bmiInt_scenario\": np.int8,\n",
    "        \"h1yy\": np.int16,\n",
    "        \"init_age_group\": np.int8,\n",
    "        \"bmiInt_impacted\": bool,\n",
    "        \"dm\": bool,\n",
    "        \"t_dm\": np.int16,\n",
    "        \"n\": np.int16,\n",
    "    }\n",
    ")\n",
    "\n",
    "# clean to control specifications\n",
    "control_bmi_int_dm_prev = clean_control(bmi_int_dm_prev, only_eligible=True, only_received = True)\n",
    "\n",
    "# Figure 2A\n",
    "dm_risk_table_S1 = calc_overall_risk(control_bmi_int_dm_prev).compute()"
   ]
  },
  {
   "cell_type": "code",
   "execution_count": 5,
   "id": "e05c8bc7-a706-492f-97b8-d9706a619468",
   "metadata": {},
   "outputs": [
    {
     "name": "stderr",
     "output_type": "stream",
     "text": [
      "C:\\Users\\jackz\\AppData\\Local\\Temp\\ipykernel_24588\\2940801998.py:3: DeprecationWarning: DataFrameGroupBy.apply operated on the grouping columns. This behavior is deprecated, and in a future version of pandas the grouping columns will be excluded from the operation. Either pass `include_groups=False` to exclude the groupings or explicitly select the grouping columns after groupby to silence this warning.\n",
      "  .apply(lambda x: x.sample(20, replace=True))\n",
      "C:\\Users\\jackz\\AppData\\Local\\Temp\\ipykernel_24588\\2940801998.py:9: DeprecationWarning: DataFrameGroupBy.apply operated on the grouping columns. This behavior is deprecated, and in a future version of pandas the grouping columns will be excluded from the operation. Either pass `include_groups=False` to exclude the groupings or explicitly select the grouping columns after groupby to silence this warning.\n",
      "  .apply(lambda x: x.sample(20, replace=True))\n"
     ]
    }
   ],
   "source": [
    "S0_sample = (\n",
    "        dm_risk_table.groupby(\"init_age_group\")\n",
    "        .apply(lambda x: x.sample(20, replace=True))\n",
    "        .reset_index(drop=True)\n",
    "    )\n",
    "\n",
    "S1_sample = (\n",
    "        dm_risk_table_S1.groupby(\"init_age_group\")\n",
    "        .apply(lambda x: x.sample(20, replace=True))\n",
    "        .reset_index(drop=True)\n",
    "    )\n",
    "\n",
    "S0_sample = S0_sample.sort_values(by = 'init_age_group').reset_index(drop = True)\n",
    "S1_sample = S1_sample.sort_values(by = 'init_age_group').reset_index(drop = True)\n",
    "\n",
    "risk_df = S0_sample.copy()\n",
    "risk_df['risk_S1'] =S1_sample['risk']\n",
    "\n",
    "risk_df['abs_reduction'] = risk_df['risk'] - risk_df['risk_S1']\n",
    "risk_df['rel_reduction'] = (risk_df['risk'] - risk_df['risk_S1'])/risk_df['risk'] * 100"
   ]
  },
  {
   "cell_type": "code",
   "execution_count": 6,
   "id": "385bb5b7-d0ec-446c-b01a-98f9abb8e749",
   "metadata": {},
   "outputs": [],
   "source": [
    "risk_df = S0_sample.copy()\n",
    "risk_df['risk_S1'] =S1_sample['risk']\n",
    "\n",
    "risk_df['abs_reduction'] = risk_df['risk'] - risk_df['risk_S1']\n",
    "risk_df['rel_reduction'] = (risk_df['risk'] - risk_df['risk_S1'])/risk_df['risk'] * 100"
   ]
  },
  {
   "cell_type": "code",
   "execution_count": 7,
   "id": "f2884537-d0a1-4581-8e70-94711d89a002",
   "metadata": {},
   "outputs": [
    {
     "data": {
      "text/html": [
       "<div>\n",
       "<style scoped>\n",
       "    .dataframe tbody tr th:only-of-type {\n",
       "        vertical-align: middle;\n",
       "    }\n",
       "\n",
       "    .dataframe tbody tr th {\n",
       "        vertical-align: top;\n",
       "    }\n",
       "\n",
       "    .dataframe thead th {\n",
       "        text-align: right;\n",
       "    }\n",
       "</style>\n",
       "<table border=\"1\" class=\"dataframe\">\n",
       "  <thead>\n",
       "    <tr style=\"text-align: right;\">\n",
       "      <th></th>\n",
       "      <th>init_age_group</th>\n",
       "      <th>replication</th>\n",
       "      <th>dm_num</th>\n",
       "      <th>person-time-contributed</th>\n",
       "      <th>num</th>\n",
       "      <th>risk</th>\n",
       "      <th>risk_S1</th>\n",
       "      <th>abs_reduction</th>\n",
       "      <th>rel_reduction</th>\n",
       "    </tr>\n",
       "  </thead>\n",
       "  <tbody>\n",
       "    <tr>\n",
       "      <th>0</th>\n",
       "      <td>0</td>\n",
       "      <td>2</td>\n",
       "      <td>752</td>\n",
       "      <td>113428</td>\n",
       "      <td>16204</td>\n",
       "      <td>6.629756</td>\n",
       "      <td>5.839777</td>\n",
       "      <td>0.789979</td>\n",
       "      <td>11.915662</td>\n",
       "    </tr>\n",
       "    <tr>\n",
       "      <th>1</th>\n",
       "      <td>0</td>\n",
       "      <td>7</td>\n",
       "      <td>785</td>\n",
       "      <td>117299</td>\n",
       "      <td>16757</td>\n",
       "      <td>6.692299</td>\n",
       "      <td>5.965091</td>\n",
       "      <td>0.727209</td>\n",
       "      <td>10.866348</td>\n",
       "    </tr>\n",
       "    <tr>\n",
       "      <th>2</th>\n",
       "      <td>0</td>\n",
       "      <td>0</td>\n",
       "      <td>795</td>\n",
       "      <td>114030</td>\n",
       "      <td>16290</td>\n",
       "      <td>6.971850</td>\n",
       "      <td>6.021441</td>\n",
       "      <td>0.950409</td>\n",
       "      <td>13.632087</td>\n",
       "    </tr>\n",
       "    <tr>\n",
       "      <th>3</th>\n",
       "      <td>0</td>\n",
       "      <td>8</td>\n",
       "      <td>848</td>\n",
       "      <td>117733</td>\n",
       "      <td>16819</td>\n",
       "      <td>7.202738</td>\n",
       "      <td>5.824369</td>\n",
       "      <td>1.378370</td>\n",
       "      <td>19.136743</td>\n",
       "    </tr>\n",
       "    <tr>\n",
       "      <th>4</th>\n",
       "      <td>0</td>\n",
       "      <td>8</td>\n",
       "      <td>848</td>\n",
       "      <td>117733</td>\n",
       "      <td>16819</td>\n",
       "      <td>7.202738</td>\n",
       "      <td>5.965091</td>\n",
       "      <td>1.237648</td>\n",
       "      <td>17.183017</td>\n",
       "    </tr>\n",
       "    <tr>\n",
       "      <th>...</th>\n",
       "      <td>...</td>\n",
       "      <td>...</td>\n",
       "      <td>...</td>\n",
       "      <td>...</td>\n",
       "      <td>...</td>\n",
       "      <td>...</td>\n",
       "      <td>...</td>\n",
       "      <td>...</td>\n",
       "      <td>...</td>\n",
       "    </tr>\n",
       "    <tr>\n",
       "      <th>135</th>\n",
       "      <td>6</td>\n",
       "      <td>1</td>\n",
       "      <td>13</td>\n",
       "      <td>917</td>\n",
       "      <td>131</td>\n",
       "      <td>14.176663</td>\n",
       "      <td>10.822511</td>\n",
       "      <td>3.354152</td>\n",
       "      <td>23.659674</td>\n",
       "    </tr>\n",
       "    <tr>\n",
       "      <th>136</th>\n",
       "      <td>6</td>\n",
       "      <td>9</td>\n",
       "      <td>31</td>\n",
       "      <td>945</td>\n",
       "      <td>135</td>\n",
       "      <td>32.804233</td>\n",
       "      <td>17.006803</td>\n",
       "      <td>15.797430</td>\n",
       "      <td>48.156682</td>\n",
       "    </tr>\n",
       "    <tr>\n",
       "      <th>137</th>\n",
       "      <td>6</td>\n",
       "      <td>5</td>\n",
       "      <td>17</td>\n",
       "      <td>882</td>\n",
       "      <td>126</td>\n",
       "      <td>19.274376</td>\n",
       "      <td>15.873016</td>\n",
       "      <td>3.401361</td>\n",
       "      <td>17.647059</td>\n",
       "    </tr>\n",
       "    <tr>\n",
       "      <th>138</th>\n",
       "      <td>6</td>\n",
       "      <td>2</td>\n",
       "      <td>16</td>\n",
       "      <td>770</td>\n",
       "      <td>110</td>\n",
       "      <td>20.779221</td>\n",
       "      <td>16.883117</td>\n",
       "      <td>3.896104</td>\n",
       "      <td>18.750000</td>\n",
       "    </tr>\n",
       "    <tr>\n",
       "      <th>139</th>\n",
       "      <td>6</td>\n",
       "      <td>9</td>\n",
       "      <td>31</td>\n",
       "      <td>945</td>\n",
       "      <td>135</td>\n",
       "      <td>32.804233</td>\n",
       "      <td>16.326531</td>\n",
       "      <td>16.477702</td>\n",
       "      <td>50.230415</td>\n",
       "    </tr>\n",
       "  </tbody>\n",
       "</table>\n",
       "<p>140 rows × 9 columns</p>\n",
       "</div>"
      ],
      "text/plain": [
       "     init_age_group  replication  dm_num  person-time-contributed    num  \\\n",
       "0                 0            2     752                   113428  16204   \n",
       "1                 0            7     785                   117299  16757   \n",
       "2                 0            0     795                   114030  16290   \n",
       "3                 0            8     848                   117733  16819   \n",
       "4                 0            8     848                   117733  16819   \n",
       "..              ...          ...     ...                      ...    ...   \n",
       "135               6            1      13                      917    131   \n",
       "136               6            9      31                      945    135   \n",
       "137               6            5      17                      882    126   \n",
       "138               6            2      16                      770    110   \n",
       "139               6            9      31                      945    135   \n",
       "\n",
       "          risk    risk_S1  abs_reduction  rel_reduction  \n",
       "0     6.629756   5.839777       0.789979      11.915662  \n",
       "1     6.692299   5.965091       0.727209      10.866348  \n",
       "2     6.971850   6.021441       0.950409      13.632087  \n",
       "3     7.202738   5.824369       1.378370      19.136743  \n",
       "4     7.202738   5.965091       1.237648      17.183017  \n",
       "..         ...        ...            ...            ...  \n",
       "135  14.176663  10.822511       3.354152      23.659674  \n",
       "136  32.804233  17.006803      15.797430      48.156682  \n",
       "137  19.274376  15.873016       3.401361      17.647059  \n",
       "138  20.779221  16.883117       3.896104      18.750000  \n",
       "139  32.804233  16.326531      16.477702      50.230415  \n",
       "\n",
       "[140 rows x 9 columns]"
      ]
     },
     "execution_count": 7,
     "metadata": {},
     "output_type": "execute_result"
    }
   ],
   "source": [
    "risk_df"
   ]
  },
  {
   "cell_type": "markdown",
   "id": "5cb5facc-124b-4672-b8f6-82fab1a48a9f",
   "metadata": {},
   "source": [
    "## Abs"
   ]
  },
  {
   "cell_type": "code",
   "execution_count": 8,
   "id": "dafaaf7a-dc39-4522-91f0-61e25953e9da",
   "metadata": {},
   "outputs": [
    {
     "name": "stderr",
     "output_type": "stream",
     "text": [
      "C:\\Users\\jackz\\AppData\\Local\\Temp\\ipykernel_24588\\3686178435.py:1: UserWarning: The palette list has more values (16) than needed (7), which may not be intended.\n",
      "  bar_ax = sns.boxplot(\n"
     ]
    },
    {
     "data": {
      "image/png": "[encoded data removed]",
      "text/plain": [
       "<Figure size 640x480 with 1 Axes>"
      ]
     },
     "metadata": {},
     "output_type": "display_data"
    }
   ],
   "source": [
    "bar_ax = sns.boxplot(\n",
    "        x=risk_df[\"init_age_group\"],\n",
    "        y=risk_df[\"abs_reduction\"],\n",
    "        palette=palette,\n",
    "        showfliers=False,\n",
    "        hue=risk_df[\"init_age_group\"],\n",
    "    )\n",
    "bar_ax.set_ylabel(\"Abs Risk Reduction\")\n",
    "bar_ax.set_xlabel(\"Age Group at ART Initiation\")\n",
    "# bar_ax.tick_params(axis=\"x\", rotation=90)\n",
    "bar_ax.set_xticks(range(0, 7))\n",
    "bar_ax.set_xticklabels([\"<20\", \"20-29\", \"30-39\", \"40-49\", \"50-59\", \"60-69\", \"70+\"])\n",
    "bar_fig = bar_ax.get_figure()\n",
    "bar_fig.savefig(out_dir / \"age_group_abs_reduction.png\", bbox_inches=\"tight\")\n",
    "plt.show()\n",
    "plt.clf()"
   ]
  },
  {
   "cell_type": "markdown",
   "id": "852c92a8-5fd6-4121-b868-6a7e8273861a",
   "metadata": {},
   "source": [
    "## Rel"
   ]
  },
  {
   "cell_type": "code",
   "execution_count": 9,
   "id": "c4221a19-7402-4b02-a26b-c0e0ef75f5e0",
   "metadata": {},
   "outputs": [
    {
     "name": "stderr",
     "output_type": "stream",
     "text": [
      "C:\\Users\\jackz\\AppData\\Local\\Temp\\ipykernel_24588\\2712843278.py:1: UserWarning: The palette list has more values (16) than needed (7), which may not be intended.\n",
      "  bar_ax = sns.boxplot(\n"
     ]
    },
    {
     "data": {
      "image/png": "[encoded data removed]",
      "text/plain": [
       "<Figure size 640x480 with 1 Axes>"
      ]
     },
     "metadata": {},
     "output_type": "display_data"
    }
   ],
   "source": [
    "bar_ax = sns.boxplot(\n",
    "        x=risk_df[\"init_age_group\"],\n",
    "        y=risk_df[\"rel_reduction\"],\n",
    "        palette=palette,\n",
    "        showfliers=False,\n",
    "        hue=risk_df[\"init_age_group\"],\n",
    "    )\n",
    "bar_ax.set_ylabel(\"Rel Risk Reduction\")\n",
    "bar_ax.set_xlabel(\"Age Group at ART Initiation\")\n",
    "bar_ax.tick_params(axis=\"x\", rotation=90)\n",
    "bar_fig = bar_ax.get_figure()\n",
    "bar_fig.savefig(out_dir / \"age_group_rel_reduction.png\", bbox_inches=\"tight\")\n",
    "plt.show()\n",
    "plt.clf()"
   ]
  },
  {
   "cell_type": "markdown",
   "id": "867b500f-298d-4ee2-87c8-2810fd06eadd",
   "metadata": {},
   "source": [
    "# BMI Group"
   ]
  },
  {
   "cell_type": "code",
   "execution_count": 10,
   "id": "e0013f49-a585-4b7e-b15e-7330f26e7d0f",
   "metadata": {},
   "outputs": [],
   "source": [
    "##################################################################################################################################\n",
    "# we will look at the \"bmi_int_dm_prev.h5\" for S0\n",
    "bmi_int_dm_prev = dd.read_parquet(baseline_dir / \"bmi_cat_final_output.parquet\").reset_index()\n",
    "\n",
    "# Add Overall\n",
    "all_but_group = list(bmi_int_dm_prev.columns[1:])\n",
    "bmi_int_dm_prev_overall = bmi_int_dm_prev.groupby(all_but_group).sum().reset_index()\n",
    "bmi_int_dm_prev_overall[\"group\"] = \"overall\"\n",
    "bmi_int_dm_prev = dd.concat([bmi_int_dm_prev, bmi_int_dm_prev_overall], ignore_index=True)\n",
    "\n",
    "# type the dataframe for space efficiency\n",
    "bmi_int_dm_prev = bmi_int_dm_prev.astype(\n",
    "    {\n",
    "        \"group\": \"str\",\n",
    "        \"replication\": \"int16\",\n",
    "        \"bmiInt_scenario\": np.int8,\n",
    "        \"h1yy\": np.int16,\n",
    "        \"init_bmi_group\": np.int8,\n",
    "        \"bmiInt_impacted\": bool,\n",
    "        \"dm\": bool,\n",
    "        \"t_dm\": np.int16,\n",
    "        \"n\": np.int16,\n",
    "    }\n",
    ")\n",
    "\n",
    "# clean to control specifications\n",
    "control_bmi_int_dm_prev = clean_control(bmi_int_dm_prev, only_eligible=True, only_received = True)\n",
    "\n",
    "# Figure 2A\n",
    "dm_risk_table = calc_overall_bmi_risk(control_bmi_int_dm_prev).compute()"
   ]
  },
  {
   "cell_type": "code",
   "execution_count": 11,
   "id": "48ba1fd9-d050-4f65-a287-37ebb3075e1c",
   "metadata": {},
   "outputs": [],
   "source": [
    "##################################################################################################################################\n",
    "# we will look at the \"bmi_int_dm_prev.h5\" for S0\n",
    "bmi_int_dm_prev = dd.read_parquet(variable_dir / \"bmi_cat_final_output.parquet\").reset_index()\n",
    "\n",
    "# Add Overall\n",
    "all_but_group = list(bmi_int_dm_prev.columns[1:])\n",
    "bmi_int_dm_prev_overall = bmi_int_dm_prev.groupby(all_but_group).sum().reset_index()\n",
    "bmi_int_dm_prev_overall[\"group\"] = \"overall\"\n",
    "bmi_int_dm_prev = dd.concat([bmi_int_dm_prev, bmi_int_dm_prev_overall], ignore_index=True)\n",
    "\n",
    "# type the dataframe for space efficiency\n",
    "bmi_int_dm_prev = bmi_int_dm_prev.astype(\n",
    "    {\n",
    "        \"group\": \"str\",\n",
    "        \"replication\": \"int16\",\n",
    "        \"bmiInt_scenario\": np.int8,\n",
    "        \"h1yy\": np.int16,\n",
    "        \"init_bmi_group\": np.int8,\n",
    "        \"bmiInt_impacted\": bool,\n",
    "        \"dm\": bool,\n",
    "        \"t_dm\": np.int16,\n",
    "        \"n\": np.int16,\n",
    "    }\n",
    ")\n",
    "\n",
    "# clean to control specifications\n",
    "control_bmi_int_dm_prev = clean_control(bmi_int_dm_prev, only_eligible=True, only_received = True)\n",
    "\n",
    "# Figure 2A\n",
    "dm_risk_table_S1 = calc_overall_bmi_risk(control_bmi_int_dm_prev).compute()"
   ]
  },
  {
   "cell_type": "code",
   "execution_count": 45,
   "id": "fa2e96f1-dbe5-4d04-b3d8-a79ce0bdff79",
   "metadata": {},
   "outputs": [
    {
     "name": "stderr",
     "output_type": "stream",
     "text": [
      "C:\\Users\\jackz\\AppData\\Local\\Temp\\ipykernel_24588\\515529097.py:3: DeprecationWarning: DataFrameGroupBy.apply operated on the grouping columns. This behavior is deprecated, and in a future version of pandas the grouping columns will be excluded from the operation. Either pass `include_groups=False` to exclude the groupings or explicitly select the grouping columns after groupby to silence this warning.\n",
      "  .apply(lambda x: x.sample(20, replace=True))\n",
      "C:\\Users\\jackz\\AppData\\Local\\Temp\\ipykernel_24588\\515529097.py:9: DeprecationWarning: DataFrameGroupBy.apply operated on the grouping columns. This behavior is deprecated, and in a future version of pandas the grouping columns will be excluded from the operation. Either pass `include_groups=False` to exclude the groupings or explicitly select the grouping columns after groupby to silence this warning.\n",
      "  .apply(lambda x: x.sample(20, replace=True))\n"
     ]
    }
   ],
   "source": [
    "S0_sample = (\n",
    "        dm_risk_table.groupby(\"init_bmi_group\")\n",
    "        .apply(lambda x: x.sample(20, replace=True))\n",
    "        .reset_index(drop=True)\n",
    "    )\n",
    "\n",
    "S1_sample = (\n",
    "        dm_risk_table_S1.groupby(\"init_bmi_group\")\n",
    "        .apply(lambda x: x.sample(20, replace=True))\n",
    "        .reset_index(drop=True)\n",
    "    )\n",
    "\n",
    "S0_sample = S0_sample.sort_values(by = 'init_bmi_group').reset_index(drop = True)\n",
    "S1_sample = S1_sample.sort_values(by = 'init_bmi_group').reset_index(drop = True)\n",
    "\n",
    "risk_df = S0_sample.copy()\n",
    "risk_df['risk_S1'] =S1_sample['risk']\n",
    "\n",
    "risk_df['abs_reduction'] = risk_df['risk'] - risk_df['risk_S1']\n",
    "risk_df['rel_reduction'] = (risk_df['risk'] - risk_df['risk_S1'])/risk_df['risk'] * 100"
   ]
  },
  {
   "cell_type": "code",
   "execution_count": 46,
   "id": "86be1c71-c561-4471-8625-340e31608b6a",
   "metadata": {},
   "outputs": [],
   "source": [
    "pre_art_bmi_bins = [0, 18.5, 19, 20, 21, 22, 23, 24, 25, 26, 27, 28, 29, 30, float(\"inf\")]\n",
    "# Create a label map\n",
    "bmi_group_map = {i: f\"{pre_art_bmi_bins[i]}-{pre_art_bmi_bins[i+1]}\" for i in range(len(pre_art_bmi_bins) - 1)}\n",
    "bmi_group_map[13] = '> 30'\n",
    "group_order = list(bmi_group_map.values())\n",
    "\n",
    "# bmi_group_map = {1:'[18.5-21.6]', 2:'[21.7-24.9]',3:'[25-27.4]',4:'[27.5-29.9]'}\n",
    "# group_order = ['[18.5-21.6]','[21.7-24.9]','[25-27.4]','[27.5-29.9]']\n",
    "risk_df[\"init_bmi_group\"] = risk_df[\"init_bmi_group\"].map(bmi_group_map)"
   ]
  },
  {
   "cell_type": "markdown",
   "id": "85f7ac5f-5d67-4b86-be2f-8b4c88f1cade",
   "metadata": {},
   "source": [
    "## Abs"
   ]
  },
  {
   "cell_type": "code",
   "execution_count": 57,
   "id": "9e0f5b59-9e4e-4e63-adb2-5a35c2327926",
   "metadata": {},
   "outputs": [
    {
     "name": "stderr",
     "output_type": "stream",
     "text": [
      "C:\\Users\\jackz\\AppData\\Local\\Temp\\ipykernel_24588\\1801475522.py:1: UserWarning: The palette list has more values (16) than needed (12), which may not be intended.\n",
      "  bar_ax = sns.boxplot(\n"
     ]
    },
    {
     "data": {
      "image/png": "[encoded data removed]",
      "text/plain": [
       "<Figure size 640x480 with 1 Axes>"
      ]
     },
     "metadata": {},
     "output_type": "display_data"
    },
    {
     "data": {
      "text/plain": [
       "<Figure size 640x480 with 0 Axes>"
      ]
     },
     "metadata": {},
     "output_type": "display_data"
    }
   ],
   "source": [
    "bar_ax = sns.boxplot(\n",
    "        x=risk_df[\"init_bmi_group\"],\n",
    "        y=risk_df[\"abs_reduction\"],\n",
    "        palette=palette,\n",
    "        showfliers=False,\n",
    "        hue=risk_df[\"init_bmi_group\"],\n",
    "        order = group_order[1:-1],\n",
    "    )\n",
    "bar_ax.set_ylabel(\"Abs Risk Reduction\")\n",
    "bar_ax.set_xlabel(\"BMI Group at ART Initiation\")\n",
    "bar_ax.tick_params(axis=\"x\", rotation=90)\n",
    "bar_fig = bar_ax.get_figure()\n",
    "bar_fig.savefig(out_dir / \"bmi_group_abs_reduction.png\", bbox_inches=\"tight\")\n",
    "plt.show()\n",
    "plt.clf()"
   ]
  },
  {
   "cell_type": "markdown",
   "id": "14e7d2e0-cdaf-4289-8da7-5382e405e72f",
   "metadata": {},
   "source": [
    "## Rel"
   ]
  },
  {
   "cell_type": "code",
   "execution_count": 58,
   "id": "e055d2c4-a5cb-489d-849a-666b2d1d1429",
   "metadata": {},
   "outputs": [
    {
     "name": "stderr",
     "output_type": "stream",
     "text": [
      "C:\\Users\\jackz\\AppData\\Local\\Temp\\ipykernel_24588\\2938291217.py:1: UserWarning: The palette list has more values (16) than needed (12), which may not be intended.\n",
      "  bar_ax = sns.boxplot(\n"
     ]
    },
    {
     "data": {
      "image/png": "[encoded data removed]",
      "text/plain": [
       "<Figure size 640x480 with 1 Axes>"
      ]
     },
     "metadata": {},
     "output_type": "display_data"
    },
    {
     "data": {
      "text/plain": [
       "<Figure size 640x480 with 0 Axes>"
      ]
     },
     "metadata": {},
     "output_type": "display_data"
    }
   ],
   "source": [
    "bar_ax = sns.boxplot(\n",
    "        x=risk_df[\"init_bmi_group\"],\n",
    "        y=risk_df[\"rel_reduction\"],\n",
    "        palette=palette,\n",
    "        showfliers=False,\n",
    "        hue=risk_df[\"init_bmi_group\"],\n",
    "        order = group_order[1:-1],\n",
    "    )\n",
    "bar_ax.set_ylabel(\"Rel Risk Reduction\")\n",
    "bar_ax.set_xlabel(\"Age Group at ART Initiation\")\n",
    "bar_ax.tick_params(axis=\"x\", rotation=90)\n",
    "bar_fig = bar_ax.get_figure()\n",
    "bar_fig.savefig(out_dir / \"bmi_group_rel_reduction.png\", bbox_inches=\"tight\")\n",
    "plt.show()\n",
    "plt.clf()"
   ]
  }
 ],
 "metadata": {
  "kernelspec": {
   "display_name": "Python 3 (ipykernel)",
   "language": "python",
   "name": "python3"
  },
  "language_info": {
   "codemirror_mode": {
    "name": "ipython",
    "version": 3
   },
   "file_extension": ".py",
   "mimetype": "text/x-python",
   "name": "python",
   "nbconvert_exporter": "python",
   "pygments_lexer": "ipython3",
   "version": "3.11.9"
  }
 },
 "nbformat": 4,
 "nbformat_minor": 5
}
