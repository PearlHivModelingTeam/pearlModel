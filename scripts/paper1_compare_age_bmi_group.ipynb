{
 "cells": [
  {
   "cell_type": "code",
   "execution_count": 76,
   "id": "768cffce-6563-4c4b-8024-315eb71bcf7f",
   "metadata": {},
   "outputs": [],
   "source": [
    "# declare imports\n",
    "import argparse\n",
    "from datetime import datetime\n",
    "from pathlib import Path\n",
    "import os\n",
    "import sys\n",
    "import dask.dataframe as dd\n",
    "import matplotlib as mpl\n",
    "import matplotlib.pyplot as plt\n",
    "import numpy as np\n",
    "import pandas as pd\n",
    "import seaborn as sns\n",
    "\n",
    "path_to_functions = os.path.abspath(\"../src\")\n",
    "\n",
    "# Add this folder to the system path\n",
    "sys.path.append(path_to_functions)\n",
    "\n",
    "from pearl.post_processing.bmi import (\n",
    "    add_summary,\n",
    "    calc_overall_risk,\n",
    "    calc_percentage,\n",
    "    calc_percentage_and_add_summary,\n",
    "    calc_risk_by_group,\n",
    "    clean_control,\n",
    "    create_summary_table,\n",
    "    group_order,\n",
    "    group_order_with_sub_total,\n",
    "    group_title_dict,\n",
    "    palette,\n",
    "    rearrange_group_order,\n",
    "    round_thousand,\n",
    "    calc_dm_prop,\n",
    "    add_sub_total\n",
    ")\n",
    "\n",
    "start_time = datetime.now()\n",
    "df_summary_dict = {}\n",
    "\n",
    "# Define the argument parser\n",
    "\n",
    "baseline_dir = Path('../out/S0_10/combined')\n",
    "variable_dir = Path('../out/S3_10/combined')\n",
    "out_dir = Path('../results')\n",
    "\n",
    "start_year = 2013\n",
    "end_year = 2017"
   ]
  },
  {
   "cell_type": "markdown",
   "id": "4c82b8ab-2afb-4762-be0b-d052b3a80fee",
   "metadata": {},
   "source": [
    "# Function"
   ]
  },
  {
   "cell_type": "code",
   "execution_count": 77,
   "id": "ae9234ec-930b-4801-9a00-1a35df296fb5",
   "metadata": {},
   "outputs": [],
   "source": [
    "def calc_overall_bmi_risk(df: pd.DataFrame, years_follow_up: int = 7) -> pd.DataFrame:\n",
    "    # filter for only overall group\n",
    "    df_overall = df[df[\"group\"] == \"overall\"]\n",
    "\n",
    "    # filter for only follow_up-year follow up with dm\n",
    "    df_overall_follow_up = df_overall.loc[\n",
    "        (df_overall[\"years_after_h1yy\"] > 0) & (df_overall[\"years_after_h1yy\"] <= years_follow_up)\n",
    "    ]\n",
    "\n",
    "    # group by replication and age group and sum\n",
    "    df_overall_follow_up_sum = (\n",
    "        df_overall_follow_up.groupby([\"init_bmi_group\", \"replication\"])[\"n\"].sum().reset_index()\n",
    "    )\n",
    "    df_overall_follow_up_sum = df_overall_follow_up_sum.rename(columns={\"n\": \"dm_num\"})\n",
    "\n",
    "    # now for the denominator\n",
    "    # First adjust people died in the same year of art initiation\n",
    "    df_overall[\"time_exposure_to_risk\"] = df_overall[\"time_exposure_to_risk\"].where(\n",
    "        df_overall[\"time_exposure_to_risk\"] == 0, 1\n",
    "    )\n",
    "\n",
    "    # Second adjust people survive from simulation\n",
    "    df_overall[\"time_exposure_to_risk\"] = df_overall[\"time_exposure_to_risk\"].where(\n",
    "        df_overall[\"time_exposure_to_risk\"] < 0, years_follow_up\n",
    "    )\n",
    "\n",
    "    # Third adjust people survived through follow-up period\n",
    "    df_overall[\"time_exposure_to_risk\"] = df_overall[\"time_exposure_to_risk\"].where(\n",
    "        df_overall[\"time_exposure_to_risk\"] > years_follow_up, years_follow_up\n",
    "    )\n",
    "\n",
    "    # Calculate person-time variable\n",
    "    df_overall[\"person-time-contributed\"] = df_overall[\"n\"] * df_overall[\"time_exposure_to_risk\"]\n",
    "\n",
    "    # group by replication and age group and sum\n",
    "    df_overall_follow_up_sum_total = (\n",
    "        df_overall.groupby([\"init_bmi_group\", \"replication\"])[[\"person-time-contributed\", \"n\"]]\n",
    "        .sum()\n",
    "        .reset_index()\n",
    "    )\n",
    "    df_overall_follow_up_sum_total = df_overall_follow_up_sum_total.rename(columns={\"n\": \"num\"})\n",
    "\n",
    "    # create risk table and calculate risk\n",
    "    dm_risk_table = dd.merge(  # type: ignore [attr-defined]\n",
    "        df_overall_follow_up_sum, df_overall_follow_up_sum_total, how=\"left\"\n",
    "    )\n",
    "    dm_risk_table[\"risk\"] = dm_risk_table[\"dm_num\"] / dm_risk_table[\"person-time-contributed\"]\n",
    "\n",
    "    dm_risk_table[\"risk\"] = dm_risk_table[\"risk\"] * 1000\n",
    "\n",
    "    return dm_risk_table"
   ]
  },
  {
   "cell_type": "markdown",
   "id": "476f0cde-d180-43ec-96e1-89658e5e5f04",
   "metadata": {},
   "source": [
    "# Age Group"
   ]
  },
  {
   "cell_type": "code",
   "execution_count": 78,
   "id": "9c5fbcc8-2ee9-4969-b145-65a5ba1db321",
   "metadata": {},
   "outputs": [],
   "source": [
    "##################################################################################################################################\n",
    "# we will look at the \"bmi_int_dm_prev.h5\" for S0\n",
    "bmi_int_dm_prev = dd.read_parquet(baseline_dir / \"dm_final_output.parquet\").reset_index()\n",
    "\n",
    "# Add Overall\n",
    "all_but_group = list(bmi_int_dm_prev.columns[1:])\n",
    "bmi_int_dm_prev_overall = bmi_int_dm_prev.groupby(all_but_group).sum().reset_index()\n",
    "bmi_int_dm_prev_overall[\"group\"] = \"overall\"\n",
    "bmi_int_dm_prev = dd.concat([bmi_int_dm_prev, bmi_int_dm_prev_overall], ignore_index=True)\n",
    "\n",
    "# type the dataframe for space efficiency\n",
    "bmi_int_dm_prev = bmi_int_dm_prev.astype(\n",
    "    {\n",
    "        \"group\": \"str\",\n",
    "        \"replication\": \"int16\",\n",
    "        \"bmiInt_scenario\": np.int8,\n",
    "        \"h1yy\": np.int16,\n",
    "        \"init_age_group\": np.int8,\n",
    "        \"bmiInt_impacted\": bool,\n",
    "        \"dm\": bool,\n",
    "        \"t_dm\": np.int16,\n",
    "        \"n\": np.int16,\n",
    "    }\n",
    ")\n",
    "\n",
    "# clean to control specifications\n",
    "control_bmi_int_dm_prev = clean_control(bmi_int_dm_prev, only_eligible=True, only_received = True)\n",
    "\n",
    "# Figure 2A\n",
    "dm_risk_table = calc_overall_risk(control_bmi_int_dm_prev).compute()"
   ]
  },
  {
   "cell_type": "code",
   "execution_count": 79,
   "id": "c7de1c59-bea8-4349-a242-b45e68689260",
   "metadata": {},
   "outputs": [],
   "source": [
    "##################################################################################################################################\n",
    "# we will look at the \"bmi_int_dm_prev.h5\" for S0\n",
    "bmi_int_dm_prev = dd.read_parquet(variable_dir / \"dm_final_output.parquet\").reset_index()\n",
    "\n",
    "# Add Overall\n",
    "all_but_group = list(bmi_int_dm_prev.columns[1:])\n",
    "bmi_int_dm_prev_overall = bmi_int_dm_prev.groupby(all_but_group).sum().reset_index()\n",
    "bmi_int_dm_prev_overall[\"group\"] = \"overall\"\n",
    "bmi_int_dm_prev = dd.concat([bmi_int_dm_prev, bmi_int_dm_prev_overall], ignore_index=True)\n",
    "\n",
    "# type the dataframe for space efficiency\n",
    "bmi_int_dm_prev = bmi_int_dm_prev.astype(\n",
    "    {\n",
    "        \"group\": \"str\",\n",
    "        \"replication\": \"int16\",\n",
    "        \"bmiInt_scenario\": np.int8,\n",
    "        \"h1yy\": np.int16,\n",
    "        \"init_age_group\": np.int8,\n",
    "        \"bmiInt_impacted\": bool,\n",
    "        \"dm\": bool,\n",
    "        \"t_dm\": np.int16,\n",
    "        \"n\": np.int16,\n",
    "    }\n",
    ")\n",
    "\n",
    "# clean to control specifications\n",
    "control_bmi_int_dm_prev = clean_control(bmi_int_dm_prev, only_eligible=True, only_received = True)\n",
    "\n",
    "# Figure 2A\n",
    "dm_risk_table_S1 = calc_overall_risk(control_bmi_int_dm_prev).compute()"
   ]
  },
  {
   "cell_type": "code",
   "execution_count": 80,
   "id": "e05c8bc7-a706-492f-97b8-d9706a619468",
   "metadata": {},
   "outputs": [
    {
     "name": "stderr",
     "output_type": "stream",
     "text": [
      "C:\\Users\\jackz\\AppData\\Local\\Temp\\ipykernel_13192\\2940801998.py:3: DeprecationWarning: DataFrameGroupBy.apply operated on the grouping columns. This behavior is deprecated, and in a future version of pandas the grouping columns will be excluded from the operation. Either pass `include_groups=False` to exclude the groupings or explicitly select the grouping columns after groupby to silence this warning.\n",
      "  .apply(lambda x: x.sample(20, replace=True))\n",
      "C:\\Users\\jackz\\AppData\\Local\\Temp\\ipykernel_13192\\2940801998.py:9: DeprecationWarning: DataFrameGroupBy.apply operated on the grouping columns. This behavior is deprecated, and in a future version of pandas the grouping columns will be excluded from the operation. Either pass `include_groups=False` to exclude the groupings or explicitly select the grouping columns after groupby to silence this warning.\n",
      "  .apply(lambda x: x.sample(20, replace=True))\n"
     ]
    }
   ],
   "source": [
    "S0_sample = (\n",
    "        dm_risk_table.groupby(\"init_age_group\")\n",
    "        .apply(lambda x: x.sample(20, replace=True))\n",
    "        .reset_index(drop=True)\n",
    "    )\n",
    "\n",
    "S1_sample = (\n",
    "        dm_risk_table_S1.groupby(\"init_age_group\")\n",
    "        .apply(lambda x: x.sample(20, replace=True))\n",
    "        .reset_index(drop=True)\n",
    "    )\n",
    "\n",
    "S0_sample = S0_sample.sort_values(by = 'init_age_group').reset_index(drop = True)\n",
    "S1_sample = S1_sample.sort_values(by = 'init_age_group').reset_index(drop = True)\n",
    "\n",
    "risk_df = S0_sample.copy()\n",
    "risk_df['risk_S1'] =S1_sample['risk']\n",
    "\n",
    "risk_df['abs_reduction'] = risk_df['risk'] - risk_df['risk_S1']\n",
    "risk_df['rel_reduction'] = (risk_df['risk'] - risk_df['risk_S1'])/risk_df['risk'] * 100"
   ]
  },
  {
   "cell_type": "code",
   "execution_count": 81,
   "id": "385bb5b7-d0ec-446c-b01a-98f9abb8e749",
   "metadata": {},
   "outputs": [],
   "source": [
    "risk_df = S0_sample.copy()\n",
    "risk_df['risk_S1'] =S1_sample['risk']\n",
    "\n",
    "risk_df['abs_reduction'] = risk_df['risk'] - risk_df['risk_S1']\n",
    "risk_df['rel_reduction'] = (risk_df['risk'] - risk_df['risk_S1'])/risk_df['risk'] * 100"
   ]
  },
  {
   "cell_type": "code",
   "execution_count": 82,
   "id": "f2884537-d0a1-4581-8e70-94711d89a002",
   "metadata": {},
   "outputs": [
    {
     "data": {
      "text/html": [
       "<div>\n",
       "<style scoped>\n",
       "    .dataframe tbody tr th:only-of-type {\n",
       "        vertical-align: middle;\n",
       "    }\n",
       "\n",
       "    .dataframe tbody tr th {\n",
       "        vertical-align: top;\n",
       "    }\n",
       "\n",
       "    .dataframe thead th {\n",
       "        text-align: right;\n",
       "    }\n",
       "</style>\n",
       "<table border=\"1\" class=\"dataframe\">\n",
       "  <thead>\n",
       "    <tr style=\"text-align: right;\">\n",
       "      <th></th>\n",
       "      <th>init_age_group</th>\n",
       "      <th>replication</th>\n",
       "      <th>dm_num</th>\n",
       "      <th>person-time-contributed</th>\n",
       "      <th>num</th>\n",
       "      <th>risk</th>\n",
       "      <th>risk_S1</th>\n",
       "      <th>abs_reduction</th>\n",
       "      <th>rel_reduction</th>\n",
       "    </tr>\n",
       "  </thead>\n",
       "  <tbody>\n",
       "    <tr>\n",
       "      <th>0</th>\n",
       "      <td>0</td>\n",
       "      <td>5</td>\n",
       "      <td>785</td>\n",
       "      <td>115808</td>\n",
       "      <td>16544</td>\n",
       "      <td>6.778461</td>\n",
       "      <td>6.021441</td>\n",
       "      <td>0.757020</td>\n",
       "      <td>11.168022</td>\n",
       "    </tr>\n",
       "    <tr>\n",
       "      <th>1</th>\n",
       "      <td>0</td>\n",
       "      <td>4</td>\n",
       "      <td>739</td>\n",
       "      <td>115010</td>\n",
       "      <td>16430</td>\n",
       "      <td>6.425528</td>\n",
       "      <td>5.824369</td>\n",
       "      <td>0.601159</td>\n",
       "      <td>9.355796</td>\n",
       "    </tr>\n",
       "    <tr>\n",
       "      <th>2</th>\n",
       "      <td>0</td>\n",
       "      <td>3</td>\n",
       "      <td>763</td>\n",
       "      <td>115549</td>\n",
       "      <td>16507</td>\n",
       "      <td>6.603259</td>\n",
       "      <td>6.021441</td>\n",
       "      <td>0.581818</td>\n",
       "      <td>8.811078</td>\n",
       "    </tr>\n",
       "    <tr>\n",
       "      <th>3</th>\n",
       "      <td>0</td>\n",
       "      <td>0</td>\n",
       "      <td>795</td>\n",
       "      <td>114030</td>\n",
       "      <td>16290</td>\n",
       "      <td>6.971850</td>\n",
       "      <td>5.839777</td>\n",
       "      <td>1.132073</td>\n",
       "      <td>16.237765</td>\n",
       "    </tr>\n",
       "    <tr>\n",
       "      <th>4</th>\n",
       "      <td>0</td>\n",
       "      <td>9</td>\n",
       "      <td>788</td>\n",
       "      <td>118020</td>\n",
       "      <td>16860</td>\n",
       "      <td>6.676834</td>\n",
       "      <td>5.843731</td>\n",
       "      <td>0.833103</td>\n",
       "      <td>12.477519</td>\n",
       "    </tr>\n",
       "    <tr>\n",
       "      <th>...</th>\n",
       "      <td>...</td>\n",
       "      <td>...</td>\n",
       "      <td>...</td>\n",
       "      <td>...</td>\n",
       "      <td>...</td>\n",
       "      <td>...</td>\n",
       "      <td>...</td>\n",
       "      <td>...</td>\n",
       "      <td>...</td>\n",
       "    </tr>\n",
       "    <tr>\n",
       "      <th>135</th>\n",
       "      <td>6</td>\n",
       "      <td>1</td>\n",
       "      <td>13</td>\n",
       "      <td>917</td>\n",
       "      <td>131</td>\n",
       "      <td>14.176663</td>\n",
       "      <td>15.873016</td>\n",
       "      <td>-1.696353</td>\n",
       "      <td>-11.965812</td>\n",
       "    </tr>\n",
       "    <tr>\n",
       "      <th>136</th>\n",
       "      <td>6</td>\n",
       "      <td>8</td>\n",
       "      <td>16</td>\n",
       "      <td>945</td>\n",
       "      <td>135</td>\n",
       "      <td>16.931217</td>\n",
       "      <td>23.280423</td>\n",
       "      <td>-6.349206</td>\n",
       "      <td>-37.500000</td>\n",
       "    </tr>\n",
       "    <tr>\n",
       "      <th>137</th>\n",
       "      <td>6</td>\n",
       "      <td>5</td>\n",
       "      <td>17</td>\n",
       "      <td>882</td>\n",
       "      <td>126</td>\n",
       "      <td>19.274376</td>\n",
       "      <td>10.822511</td>\n",
       "      <td>8.451866</td>\n",
       "      <td>43.850267</td>\n",
       "    </tr>\n",
       "    <tr>\n",
       "      <th>138</th>\n",
       "      <td>6</td>\n",
       "      <td>2</td>\n",
       "      <td>16</td>\n",
       "      <td>770</td>\n",
       "      <td>110</td>\n",
       "      <td>20.779221</td>\n",
       "      <td>11.995638</td>\n",
       "      <td>8.783583</td>\n",
       "      <td>42.270992</td>\n",
       "    </tr>\n",
       "    <tr>\n",
       "      <th>139</th>\n",
       "      <td>6</td>\n",
       "      <td>8</td>\n",
       "      <td>16</td>\n",
       "      <td>945</td>\n",
       "      <td>135</td>\n",
       "      <td>16.931217</td>\n",
       "      <td>16.883117</td>\n",
       "      <td>0.048100</td>\n",
       "      <td>0.284091</td>\n",
       "    </tr>\n",
       "  </tbody>\n",
       "</table>\n",
       "<p>140 rows × 9 columns</p>\n",
       "</div>"
      ],
      "text/plain": [
       "     init_age_group  replication  dm_num  person-time-contributed    num  \\\n",
       "0                 0            5     785                   115808  16544   \n",
       "1                 0            4     739                   115010  16430   \n",
       "2                 0            3     763                   115549  16507   \n",
       "3                 0            0     795                   114030  16290   \n",
       "4                 0            9     788                   118020  16860   \n",
       "..              ...          ...     ...                      ...    ...   \n",
       "135               6            1      13                      917    131   \n",
       "136               6            8      16                      945    135   \n",
       "137               6            5      17                      882    126   \n",
       "138               6            2      16                      770    110   \n",
       "139               6            8      16                      945    135   \n",
       "\n",
       "          risk    risk_S1  abs_reduction  rel_reduction  \n",
       "0     6.778461   6.021441       0.757020      11.168022  \n",
       "1     6.425528   5.824369       0.601159       9.355796  \n",
       "2     6.603259   6.021441       0.581818       8.811078  \n",
       "3     6.971850   5.839777       1.132073      16.237765  \n",
       "4     6.676834   5.843731       0.833103      12.477519  \n",
       "..         ...        ...            ...            ...  \n",
       "135  14.176663  15.873016      -1.696353     -11.965812  \n",
       "136  16.931217  23.280423      -6.349206     -37.500000  \n",
       "137  19.274376  10.822511       8.451866      43.850267  \n",
       "138  20.779221  11.995638       8.783583      42.270992  \n",
       "139  16.931217  16.883117       0.048100       0.284091  \n",
       "\n",
       "[140 rows x 9 columns]"
      ]
     },
     "execution_count": 82,
     "metadata": {},
     "output_type": "execute_result"
    }
   ],
   "source": [
    "risk_df"
   ]
  },
  {
   "cell_type": "markdown",
   "id": "5cb5facc-124b-4672-b8f6-82fab1a48a9f",
   "metadata": {},
   "source": [
    "## Abs"
   ]
  },
  {
   "cell_type": "code",
   "execution_count": 83,
   "id": "dafaaf7a-dc39-4522-91f0-61e25953e9da",
   "metadata": {},
   "outputs": [
    {
     "name": "stderr",
     "output_type": "stream",
     "text": [
      "C:\\Users\\jackz\\AppData\\Local\\Temp\\ipykernel_13192\\3686178435.py:1: UserWarning: The palette list has more values (16) than needed (7), which may not be intended.\n",
      "  bar_ax = sns.boxplot(\n"
     ]
    },
    {
     "data": {
      "image/png": "[encoded data removed]",
      "text/plain": [
       "<Figure size 640x480 with 1 Axes>"
      ]
     },
     "metadata": {},
     "output_type": "display_data"
    }
   ],
   "source": [
    "bar_ax = sns.boxplot(\n",
    "        x=risk_df[\"init_age_group\"],\n",
    "        y=risk_df[\"abs_reduction\"],\n",
    "        palette=palette,\n",
    "        hue=risk_df[\"init_age_group\"],\n",
    "    )"
   ]
  },
  {
   "cell_type": "markdown",
   "id": "852c92a8-5fd6-4121-b868-6a7e8273861a",
   "metadata": {},
   "source": [
    "## Rel"
   ]
  },
  {
   "cell_type": "code",
   "execution_count": 84,
   "id": "c4221a19-7402-4b02-a26b-c0e0ef75f5e0",
   "metadata": {},
   "outputs": [
    {
     "name": "stderr",
     "output_type": "stream",
     "text": [
      "C:\\Users\\jackz\\AppData\\Local\\Temp\\ipykernel_13192\\2712843278.py:1: UserWarning: The palette list has more values (16) than needed (7), which may not be intended.\n",
      "  bar_ax = sns.boxplot(\n"
     ]
    },
    {
     "data": {
      "image/png": "[encoded data removed]",
      "text/plain": [
       "<Figure size 640x480 with 1 Axes>"
      ]
     },
     "metadata": {},
     "output_type": "display_data"
    }
   ],
   "source": [
    "bar_ax = sns.boxplot(\n",
    "        x=risk_df[\"init_age_group\"],\n",
    "        y=risk_df[\"rel_reduction\"],\n",
    "        palette=palette,\n",
    "        hue=risk_df[\"init_age_group\"],\n",
    "    )"
   ]
  },
  {
   "cell_type": "markdown",
   "id": "867b500f-298d-4ee2-87c8-2810fd06eadd",
   "metadata": {},
   "source": [
    "# BMI Group"
   ]
  },
  {
   "cell_type": "code",
   "execution_count": 85,
   "id": "e0013f49-a585-4b7e-b15e-7330f26e7d0f",
   "metadata": {},
   "outputs": [],
   "source": [
    "##################################################################################################################################\n",
    "# we will look at the \"bmi_int_dm_prev.h5\" for S0\n",
    "bmi_int_dm_prev = dd.read_parquet(baseline_dir / \"dm_final_output.parquet\").reset_index()\n",
    "\n",
    "# Add Overall\n",
    "all_but_group = list(bmi_int_dm_prev.columns[1:])\n",
    "bmi_int_dm_prev_overall = bmi_int_dm_prev.groupby(all_but_group).sum().reset_index()\n",
    "bmi_int_dm_prev_overall[\"group\"] = \"overall\"\n",
    "bmi_int_dm_prev = dd.concat([bmi_int_dm_prev, bmi_int_dm_prev_overall], ignore_index=True)\n",
    "\n",
    "# type the dataframe for space efficiency\n",
    "bmi_int_dm_prev = bmi_int_dm_prev.astype(\n",
    "    {\n",
    "        \"group\": \"str\",\n",
    "        \"replication\": \"int16\",\n",
    "        \"bmiInt_scenario\": np.int8,\n",
    "        \"h1yy\": np.int16,\n",
    "        \"init_age_group\": np.int8,\n",
    "        \"bmiInt_impacted\": bool,\n",
    "        \"dm\": bool,\n",
    "        \"t_dm\": np.int16,\n",
    "        \"n\": np.int16,\n",
    "    }\n",
    ")\n",
    "\n",
    "# clean to control specifications\n",
    "control_bmi_int_dm_prev = clean_control(bmi_int_dm_prev, only_eligible=True, only_received = True)\n",
    "\n",
    "# Figure 2A\n",
    "dm_risk_table = calc_overall_bmi_risk(control_bmi_int_dm_prev).compute()"
   ]
  },
  {
   "cell_type": "code",
   "execution_count": 86,
   "id": "48ba1fd9-d050-4f65-a287-37ebb3075e1c",
   "metadata": {},
   "outputs": [],
   "source": [
    "##################################################################################################################################\n",
    "# we will look at the \"bmi_int_dm_prev.h5\" for S0\n",
    "bmi_int_dm_prev = dd.read_parquet(variable_dir / \"dm_final_output.parquet\").reset_index()\n",
    "\n",
    "# Add Overall\n",
    "all_but_group = list(bmi_int_dm_prev.columns[1:])\n",
    "bmi_int_dm_prev_overall = bmi_int_dm_prev.groupby(all_but_group).sum().reset_index()\n",
    "bmi_int_dm_prev_overall[\"group\"] = \"overall\"\n",
    "bmi_int_dm_prev = dd.concat([bmi_int_dm_prev, bmi_int_dm_prev_overall], ignore_index=True)\n",
    "\n",
    "# type the dataframe for space efficiency\n",
    "bmi_int_dm_prev = bmi_int_dm_prev.astype(\n",
    "    {\n",
    "        \"group\": \"str\",\n",
    "        \"replication\": \"int16\",\n",
    "        \"bmiInt_scenario\": np.int8,\n",
    "        \"h1yy\": np.int16,\n",
    "        \"init_age_group\": np.int8,\n",
    "        \"bmiInt_impacted\": bool,\n",
    "        \"dm\": bool,\n",
    "        \"t_dm\": np.int16,\n",
    "        \"n\": np.int16,\n",
    "    }\n",
    ")\n",
    "\n",
    "# clean to control specifications\n",
    "control_bmi_int_dm_prev = clean_control(bmi_int_dm_prev, only_eligible=True, only_received = True)\n",
    "\n",
    "# Figure 2A\n",
    "dm_risk_table_S1 = calc_overall_bmi_risk(control_bmi_int_dm_prev).compute()"
   ]
  },
  {
   "cell_type": "code",
   "execution_count": 87,
   "id": "fa2e96f1-dbe5-4d04-b3d8-a79ce0bdff79",
   "metadata": {},
   "outputs": [
    {
     "name": "stderr",
     "output_type": "stream",
     "text": [
      "C:\\Users\\jackz\\AppData\\Local\\Temp\\ipykernel_13192\\515529097.py:3: DeprecationWarning: DataFrameGroupBy.apply operated on the grouping columns. This behavior is deprecated, and in a future version of pandas the grouping columns will be excluded from the operation. Either pass `include_groups=False` to exclude the groupings or explicitly select the grouping columns after groupby to silence this warning.\n",
      "  .apply(lambda x: x.sample(20, replace=True))\n",
      "C:\\Users\\jackz\\AppData\\Local\\Temp\\ipykernel_13192\\515529097.py:9: DeprecationWarning: DataFrameGroupBy.apply operated on the grouping columns. This behavior is deprecated, and in a future version of pandas the grouping columns will be excluded from the operation. Either pass `include_groups=False` to exclude the groupings or explicitly select the grouping columns after groupby to silence this warning.\n",
      "  .apply(lambda x: x.sample(20, replace=True))\n"
     ]
    }
   ],
   "source": [
    "S0_sample = (\n",
    "        dm_risk_table.groupby(\"init_bmi_group\")\n",
    "        .apply(lambda x: x.sample(20, replace=True))\n",
    "        .reset_index(drop=True)\n",
    "    )\n",
    "\n",
    "S1_sample = (\n",
    "        dm_risk_table_S1.groupby(\"init_bmi_group\")\n",
    "        .apply(lambda x: x.sample(20, replace=True))\n",
    "        .reset_index(drop=True)\n",
    "    )\n",
    "\n",
    "S0_sample = S0_sample.sort_values(by = 'init_bmi_group').reset_index(drop = True)\n",
    "S1_sample = S1_sample.sort_values(by = 'init_bmi_group').reset_index(drop = True)\n",
    "\n",
    "risk_df = S0_sample.copy()\n",
    "risk_df['risk_S1'] =S1_sample['risk']\n",
    "\n",
    "risk_df['abs_reduction'] = risk_df['risk'] - risk_df['risk_S1']\n",
    "risk_df['rel_reduction'] = (risk_df['risk'] - risk_df['risk_S1'])/risk_df['risk'] * 100"
   ]
  },
  {
   "cell_type": "markdown",
   "id": "85f7ac5f-5d67-4b86-be2f-8b4c88f1cade",
   "metadata": {},
   "source": [
    "## Abs"
   ]
  },
  {
   "cell_type": "code",
   "execution_count": 88,
   "id": "86be1c71-c561-4471-8625-340e31608b6a",
   "metadata": {},
   "outputs": [],
   "source": [
    "bmi_group_map = {1:'[18.5-21.6]', 2:'[21.7-24.9]',3:'[25-27.4]',4:'[27.5-29.9]'}\n",
    "group_order = ['[18.5-21.6]','[21.7-24.9]','[25-27.4]','[27.5-29.9]']\n",
    "risk_df[\"init_bmi_group\"] = risk_df[\"init_bmi_group\"].map(bmi_group_map)"
   ]
  },
  {
   "cell_type": "code",
   "execution_count": 89,
   "id": "9e0f5b59-9e4e-4e63-adb2-5a35c2327926",
   "metadata": {},
   "outputs": [
    {
     "name": "stderr",
     "output_type": "stream",
     "text": [
      "C:\\Users\\jackz\\AppData\\Local\\Temp\\ipykernel_13192\\84540626.py:1: UserWarning: The palette list has more values (16) than needed (4), which may not be intended.\n",
      "  bar_ax = sns.boxplot(\n"
     ]
    },
    {
     "data": {
      "image/png": "[encoded data removed]",
      "text/plain": [
       "<Figure size 640x480 with 1 Axes>"
      ]
     },
     "metadata": {},
     "output_type": "display_data"
    }
   ],
   "source": [
    "bar_ax = sns.boxplot(\n",
    "        x=risk_df[\"init_bmi_group\"],\n",
    "        y=risk_df[\"abs_reduction\"],\n",
    "        palette=palette,\n",
    "        hue=risk_df[\"init_bmi_group\"],\n",
    "        order = group_order,\n",
    "    )"
   ]
  },
  {
   "cell_type": "markdown",
   "id": "14e7d2e0-cdaf-4289-8da7-5382e405e72f",
   "metadata": {},
   "source": [
    "## Rel"
   ]
  },
  {
   "cell_type": "code",
   "execution_count": 90,
   "id": "e055d2c4-a5cb-489d-849a-666b2d1d1429",
   "metadata": {},
   "outputs": [
    {
     "name": "stderr",
     "output_type": "stream",
     "text": [
      "C:\\Users\\jackz\\AppData\\Local\\Temp\\ipykernel_13192\\2427357485.py:1: UserWarning: The palette list has more values (16) than needed (4), which may not be intended.\n",
      "  bar_ax = sns.boxplot(\n"
     ]
    },
    {
     "data": {
      "image/png": "[encoded data removed]",
      "text/plain": [
       "<Figure size 640x480 with 1 Axes>"
      ]
     },
     "metadata": {},
     "output_type": "display_data"
    }
   ],
   "source": [
    "bar_ax = sns.boxplot(\n",
    "        x=risk_df[\"init_bmi_group\"],\n",
    "        y=risk_df[\"rel_reduction\"],\n",
    "        palette=palette,\n",
    "        hue=risk_df[\"init_bmi_group\"],\n",
    "        order = group_order,\n",
    "    )"
   ]
  }
 ],
 "metadata": {
  "kernelspec": {
   "display_name": "Python 3 (ipykernel)",
   "language": "python",
   "name": "python3"
  },
  "language_info": {
   "codemirror_mode": {
    "name": "ipython",
    "version": 3
   },
   "file_extension": ".py",
   "mimetype": "text/x-python",
   "name": "python",
   "nbconvert_exporter": "python",
   "pygments_lexer": "ipython3",
   "version": "3.11.9"
  }
 },
 "nbformat": 4,
 "nbformat_minor": 5
}
