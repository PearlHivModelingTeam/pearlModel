{
 "cells": [
  {
   "cell_type": "code",
   "execution_count": 1,
   "id": "768cffce-6563-4c4b-8024-315eb71bcf7f",
   "metadata": {},
   "outputs": [
    {
     "name": "stderr",
     "output_type": "stream",
     "text": [
      "C:\\Users\\jackz\\.conda\\envs\\PEARL\\Lib\\site-packages\\dask\\dataframe\\_pyarrow_compat.py:17: FutureWarning: Minimal version of pyarrow will soon be increased to 14.0.1. You are using 11.0.0. Please consider upgrading.\n",
      "  warnings.warn(\n"
     ]
    }
   ],
   "source": [
    "# declare imports\n",
    "import argparse\n",
    "from datetime import datetime\n",
    "from pathlib import Path\n",
    "import os\n",
    "import sys\n",
    "import dask.dataframe as dd\n",
    "import matplotlib as mpl\n",
    "import matplotlib.pyplot as plt\n",
    "import numpy as np\n",
    "import pandas as pd\n",
    "import seaborn as sns\n",
    "\n",
    "path_to_functions = os.path.abspath(\"../src\")\n",
    "\n",
    "# Add this folder to the system path\n",
    "sys.path.append(path_to_functions)\n",
    "\n",
    "from pearl.post_processing.bmi import (\n",
    "    add_summary,\n",
    "    calc_overall_risk,\n",
    "    calc_percentage,\n",
    "    calc_percentage_and_add_summary,\n",
    "    calc_risk_by_group,\n",
    "    clean_control,\n",
    "    create_summary_table,\n",
    "    group_order,\n",
    "    group_order_with_sub_total,\n",
    "    group_title_dict,\n",
    "    palette,\n",
    "    rearrange_group_order,\n",
    "    round_thousand,\n",
    "    calc_dm_prop,\n",
    "    add_sub_total\n",
    ")\n",
    "\n",
    "start_time = datetime.now()\n",
    "df_summary_dict = {}\n",
    "\n",
    "# Define the argument parser\n",
    "\n",
    "baseline_dir = Path('../out/S0_10/combined')\n",
    "variable_dir = Path('../out/S3_10/combined')\n",
    "out_dir = Path('../results')\n",
    "\n",
    "start_year = 2013\n",
    "end_year = 2017\n",
    "font_size = 9"
   ]
  },
  {
   "cell_type": "markdown",
   "id": "4c82b8ab-2afb-4762-be0b-d052b3a80fee",
   "metadata": {},
   "source": [
    "# Function"
   ]
  },
  {
   "cell_type": "code",
   "execution_count": 2,
   "id": "ae9234ec-930b-4801-9a00-1a35df296fb5",
   "metadata": {},
   "outputs": [],
   "source": [
    "def calc_overall_bmi_risk(df: pd.DataFrame, years_follow_up: int = 7) -> pd.DataFrame:\n",
    "    # filter for only overall group\n",
    "    df_overall = df[df[\"group\"] == \"overall\"]\n",
    "\n",
    "    # filter for only follow_up-year follow up with dm\n",
    "    df_overall_follow_up = df_overall.loc[\n",
    "        (df_overall[\"years_after_h1yy\"] > 0) & (df_overall[\"years_after_h1yy\"] <= years_follow_up)\n",
    "    ]\n",
    "\n",
    "    # group by replication and age group and sum\n",
    "    df_overall_follow_up_sum = (\n",
    "        df_overall_follow_up.groupby([\"init_bmi_group\", \"replication\"])[\"n\"].sum().reset_index()\n",
    "    )\n",
    "    df_overall_follow_up_sum = df_overall_follow_up_sum.rename(columns={\"n\": \"dm_num\"})\n",
    "\n",
    "    # now for the denominator\n",
    "    # First adjust people died in the same year of art initiation\n",
    "    df_overall[\"time_exposure_to_risk\"] = df_overall[\"time_exposure_to_risk\"].where(\n",
    "        df_overall[\"time_exposure_to_risk\"] == 0, 1\n",
    "    )\n",
    "\n",
    "    # Second adjust people survive from simulation\n",
    "    df_overall[\"time_exposure_to_risk\"] = df_overall[\"time_exposure_to_risk\"].where(\n",
    "        df_overall[\"time_exposure_to_risk\"] < 0, years_follow_up\n",
    "    )\n",
    "\n",
    "    # Third adjust people survived through follow-up period\n",
    "    df_overall[\"time_exposure_to_risk\"] = df_overall[\"time_exposure_to_risk\"].where(\n",
    "        df_overall[\"time_exposure_to_risk\"] > years_follow_up, years_follow_up\n",
    "    )\n",
    "\n",
    "    # Calculate person-time variable\n",
    "    df_overall[\"person-time-contributed\"] = df_overall[\"n\"] * df_overall[\"time_exposure_to_risk\"]\n",
    "\n",
    "    # group by replication and age group and sum\n",
    "    df_overall_follow_up_sum_total = (\n",
    "        df_overall.groupby([\"init_bmi_group\", \"replication\"])[[\"person-time-contributed\", \"n\"]]\n",
    "        .sum()\n",
    "        .reset_index()\n",
    "    )\n",
    "    df_overall_follow_up_sum_total = df_overall_follow_up_sum_total.rename(columns={\"n\": \"num\"})\n",
    "\n",
    "    # create risk table and calculate risk\n",
    "    dm_risk_table = dd.merge(  # type: ignore [attr-defined]\n",
    "        df_overall_follow_up_sum, df_overall_follow_up_sum_total, how=\"left\"\n",
    "    )\n",
    "    dm_risk_table[\"risk\"] = dm_risk_table[\"dm_num\"] / dm_risk_table[\"person-time-contributed\"]\n",
    "\n",
    "    dm_risk_table[\"risk\"] = dm_risk_table[\"risk\"] * 1000\n",
    "\n",
    "    return dm_risk_table"
   ]
  },
  {
   "cell_type": "markdown",
   "id": "476f0cde-d180-43ec-96e1-89658e5e5f04",
   "metadata": {},
   "source": [
    "# Age Group"
   ]
  },
  {
   "cell_type": "code",
   "execution_count": 4,
   "id": "9c5fbcc8-2ee9-4969-b145-65a5ba1db321",
   "metadata": {},
   "outputs": [],
   "source": [
    "##################################################################################################################################\n",
    "# we will look at the \"bmi_int_dm_prev.h5\" for S0\n",
    "bmi_int_dm_prev = dd.read_parquet(baseline_dir / \"dm_final_output.parquet\").reset_index()\n",
    "\n",
    "# Add Overall\n",
    "all_but_group = list(bmi_int_dm_prev.columns[1:])\n",
    "bmi_int_dm_prev_overall = bmi_int_dm_prev.groupby(all_but_group).sum().reset_index()\n",
    "bmi_int_dm_prev_overall[\"group\"] = \"overall\"\n",
    "bmi_int_dm_prev = dd.concat([bmi_int_dm_prev, bmi_int_dm_prev_overall], ignore_index=True)\n",
    "\n",
    "# type the dataframe for space efficiency\n",
    "bmi_int_dm_prev = bmi_int_dm_prev.astype(\n",
    "    {\n",
    "        \"group\": \"str\",\n",
    "        \"replication\": \"int16\",\n",
    "        \"bmiInt_scenario\": np.int8,\n",
    "        \"h1yy\": np.int16,\n",
    "        \"init_age_group\": np.int8,\n",
    "        \"bmiInt_impacted\": bool,\n",
    "        \"dm\": bool,\n",
    "        \"t_dm\": np.int16,\n",
    "        \"n\": np.int16,\n",
    "    }\n",
    ")\n",
    "\n",
    "# clean to control specifications\n",
    "control_bmi_int_dm_prev = clean_control(bmi_int_dm_prev, only_eligible=True, only_received = True)\n",
    "\n",
    "dm_risk_table = calc_overall_risk(control_bmi_int_dm_prev).compute()"
   ]
  },
  {
   "cell_type": "code",
   "execution_count": 5,
   "id": "c7de1c59-bea8-4349-a242-b45e68689260",
   "metadata": {},
   "outputs": [],
   "source": [
    "##################################################################################################################################\n",
    "# we will look at the \"bmi_int_dm_prev.h5\" for S0\n",
    "bmi_int_dm_prev = dd.read_parquet(variable_dir / \"dm_final_output.parquet\").reset_index()\n",
    "\n",
    "# Add Overall\n",
    "all_but_group = list(bmi_int_dm_prev.columns[1:])\n",
    "bmi_int_dm_prev_overall = bmi_int_dm_prev.groupby(all_but_group).sum().reset_index()\n",
    "bmi_int_dm_prev_overall[\"group\"] = \"overall\"\n",
    "bmi_int_dm_prev = dd.concat([bmi_int_dm_prev, bmi_int_dm_prev_overall], ignore_index=True)\n",
    "\n",
    "# type the dataframe for space efficiency\n",
    "bmi_int_dm_prev = bmi_int_dm_prev.astype(\n",
    "    {\n",
    "        \"group\": \"str\",\n",
    "        \"replication\": \"int16\",\n",
    "        \"bmiInt_scenario\": np.int8,\n",
    "        \"h1yy\": np.int16,\n",
    "        \"init_age_group\": np.int8,\n",
    "        \"bmiInt_impacted\": bool,\n",
    "        \"dm\": bool,\n",
    "        \"t_dm\": np.int16,\n",
    "        \"n\": np.int16,\n",
    "    }\n",
    ")\n",
    "\n",
    "# clean to control specifications\n",
    "control_bmi_int_dm_prev = clean_control(bmi_int_dm_prev, only_eligible=True, only_received = True)\n",
    "\n",
    "dm_risk_table_S1 = calc_overall_risk(control_bmi_int_dm_prev).compute()"
   ]
  },
  {
   "cell_type": "code",
   "execution_count": 6,
   "id": "e05c8bc7-a706-492f-97b8-d9706a619468",
   "metadata": {},
   "outputs": [
    {
     "name": "stderr",
     "output_type": "stream",
     "text": [
      "C:\\Users\\jackz\\AppData\\Local\\Temp\\ipykernel_56072\\2940801998.py:3: DeprecationWarning: DataFrameGroupBy.apply operated on the grouping columns. This behavior is deprecated, and in a future version of pandas the grouping columns will be excluded from the operation. Either pass `include_groups=False` to exclude the groupings or explicitly select the grouping columns after groupby to silence this warning.\n",
      "  .apply(lambda x: x.sample(20, replace=True))\n",
      "C:\\Users\\jackz\\AppData\\Local\\Temp\\ipykernel_56072\\2940801998.py:9: DeprecationWarning: DataFrameGroupBy.apply operated on the grouping columns. This behavior is deprecated, and in a future version of pandas the grouping columns will be excluded from the operation. Either pass `include_groups=False` to exclude the groupings or explicitly select the grouping columns after groupby to silence this warning.\n",
      "  .apply(lambda x: x.sample(20, replace=True))\n"
     ]
    }
   ],
   "source": [
    "S0_sample = (\n",
    "        dm_risk_table.groupby(\"init_age_group\")\n",
    "        .apply(lambda x: x.sample(20, replace=True))\n",
    "        .reset_index(drop=True)\n",
    "    )\n",
    "\n",
    "S1_sample = (\n",
    "        dm_risk_table_S1.groupby(\"init_age_group\")\n",
    "        .apply(lambda x: x.sample(20, replace=True))\n",
    "        .reset_index(drop=True)\n",
    "    )\n",
    "\n",
    "S0_sample = S0_sample.sort_values(by = 'init_age_group').reset_index(drop = True)\n",
    "S1_sample = S1_sample.sort_values(by = 'init_age_group').reset_index(drop = True)\n",
    "\n",
    "risk_df = S0_sample.copy()\n",
    "risk_df['risk_S1'] =S1_sample['risk']\n",
    "\n",
    "risk_df['abs_reduction'] = risk_df['risk'] - risk_df['risk_S1']\n",
    "risk_df['rel_reduction'] = (risk_df['risk'] - risk_df['risk_S1'])/risk_df['risk'] * 100"
   ]
  },
  {
   "cell_type": "code",
   "execution_count": 7,
   "id": "385bb5b7-d0ec-446c-b01a-98f9abb8e749",
   "metadata": {},
   "outputs": [],
   "source": [
    "risk_df = S0_sample.copy()\n",
    "risk_df['risk_S1'] =S1_sample['risk']\n",
    "\n",
    "risk_df['abs_reduction'] = risk_df['risk'] - risk_df['risk_S1']\n",
    "risk_df['rel_reduction'] = (risk_df['risk'] - risk_df['risk_S1'])/risk_df['risk'] * 100"
   ]
  },
  {
   "cell_type": "code",
   "execution_count": 8,
   "id": "f2884537-d0a1-4581-8e70-94711d89a002",
   "metadata": {},
   "outputs": [
    {
     "data": {
      "text/html": [
       "<div>\n",
       "<style scoped>\n",
       "    .dataframe tbody tr th:only-of-type {\n",
       "        vertical-align: middle;\n",
       "    }\n",
       "\n",
       "    .dataframe tbody tr th {\n",
       "        vertical-align: top;\n",
       "    }\n",
       "\n",
       "    .dataframe thead th {\n",
       "        text-align: right;\n",
       "    }\n",
       "</style>\n",
       "<table border=\"1\" class=\"dataframe\">\n",
       "  <thead>\n",
       "    <tr style=\"text-align: right;\">\n",
       "      <th></th>\n",
       "      <th>init_age_group</th>\n",
       "      <th>replication</th>\n",
       "      <th>dm_num</th>\n",
       "      <th>person-time-contributed</th>\n",
       "      <th>num</th>\n",
       "      <th>risk</th>\n",
       "      <th>risk_S1</th>\n",
       "      <th>abs_reduction</th>\n",
       "      <th>rel_reduction</th>\n",
       "    </tr>\n",
       "  </thead>\n",
       "  <tbody>\n",
       "    <tr>\n",
       "      <th>0</th>\n",
       "      <td>0</td>\n",
       "      <td>5</td>\n",
       "      <td>785</td>\n",
       "      <td>115808</td>\n",
       "      <td>16544</td>\n",
       "      <td>6.778461</td>\n",
       "      <td>5.317329</td>\n",
       "      <td>1.461132</td>\n",
       "      <td>21.555516</td>\n",
       "    </tr>\n",
       "    <tr>\n",
       "      <th>1</th>\n",
       "      <td>0</td>\n",
       "      <td>2</td>\n",
       "      <td>752</td>\n",
       "      <td>113428</td>\n",
       "      <td>16204</td>\n",
       "      <td>6.629756</td>\n",
       "      <td>5.241434</td>\n",
       "      <td>1.388322</td>\n",
       "      <td>20.940773</td>\n",
       "    </tr>\n",
       "    <tr>\n",
       "      <th>2</th>\n",
       "      <td>0</td>\n",
       "      <td>0</td>\n",
       "      <td>795</td>\n",
       "      <td>114030</td>\n",
       "      <td>16290</td>\n",
       "      <td>6.971850</td>\n",
       "      <td>6.021441</td>\n",
       "      <td>0.950409</td>\n",
       "      <td>13.632087</td>\n",
       "    </tr>\n",
       "    <tr>\n",
       "      <th>3</th>\n",
       "      <td>0</td>\n",
       "      <td>2</td>\n",
       "      <td>752</td>\n",
       "      <td>113428</td>\n",
       "      <td>16204</td>\n",
       "      <td>6.629756</td>\n",
       "      <td>5.782106</td>\n",
       "      <td>0.847650</td>\n",
       "      <td>12.785544</td>\n",
       "    </tr>\n",
       "    <tr>\n",
       "      <th>4</th>\n",
       "      <td>0</td>\n",
       "      <td>6</td>\n",
       "      <td>753</td>\n",
       "      <td>113967</td>\n",
       "      <td>16281</td>\n",
       "      <td>6.607176</td>\n",
       "      <td>5.782106</td>\n",
       "      <td>0.825070</td>\n",
       "      <td>12.487482</td>\n",
       "    </tr>\n",
       "    <tr>\n",
       "      <th>...</th>\n",
       "      <td>...</td>\n",
       "      <td>...</td>\n",
       "      <td>...</td>\n",
       "      <td>...</td>\n",
       "      <td>...</td>\n",
       "      <td>...</td>\n",
       "      <td>...</td>\n",
       "      <td>...</td>\n",
       "      <td>...</td>\n",
       "    </tr>\n",
       "    <tr>\n",
       "      <th>135</th>\n",
       "      <td>6</td>\n",
       "      <td>3</td>\n",
       "      <td>15</td>\n",
       "      <td>791</td>\n",
       "      <td>113</td>\n",
       "      <td>18.963338</td>\n",
       "      <td>13.906448</td>\n",
       "      <td>5.056890</td>\n",
       "      <td>26.666667</td>\n",
       "    </tr>\n",
       "    <tr>\n",
       "      <th>136</th>\n",
       "      <td>6</td>\n",
       "      <td>8</td>\n",
       "      <td>16</td>\n",
       "      <td>945</td>\n",
       "      <td>135</td>\n",
       "      <td>16.931217</td>\n",
       "      <td>15.873016</td>\n",
       "      <td>1.058201</td>\n",
       "      <td>6.250000</td>\n",
       "    </tr>\n",
       "    <tr>\n",
       "      <th>137</th>\n",
       "      <td>6</td>\n",
       "      <td>5</td>\n",
       "      <td>17</td>\n",
       "      <td>882</td>\n",
       "      <td>126</td>\n",
       "      <td>19.274376</td>\n",
       "      <td>17.006803</td>\n",
       "      <td>2.267574</td>\n",
       "      <td>11.764706</td>\n",
       "    </tr>\n",
       "    <tr>\n",
       "      <th>138</th>\n",
       "      <td>6</td>\n",
       "      <td>6</td>\n",
       "      <td>22</td>\n",
       "      <td>980</td>\n",
       "      <td>140</td>\n",
       "      <td>22.448980</td>\n",
       "      <td>19.875776</td>\n",
       "      <td>2.573203</td>\n",
       "      <td>11.462451</td>\n",
       "    </tr>\n",
       "    <tr>\n",
       "      <th>139</th>\n",
       "      <td>6</td>\n",
       "      <td>5</td>\n",
       "      <td>17</td>\n",
       "      <td>882</td>\n",
       "      <td>126</td>\n",
       "      <td>19.274376</td>\n",
       "      <td>17.006803</td>\n",
       "      <td>2.267574</td>\n",
       "      <td>11.764706</td>\n",
       "    </tr>\n",
       "  </tbody>\n",
       "</table>\n",
       "<p>140 rows × 9 columns</p>\n",
       "</div>"
      ],
      "text/plain": [
       "     init_age_group  replication  dm_num  person-time-contributed    num  \\\n",
       "0                 0            5     785                   115808  16544   \n",
       "1                 0            2     752                   113428  16204   \n",
       "2                 0            0     795                   114030  16290   \n",
       "3                 0            2     752                   113428  16204   \n",
       "4                 0            6     753                   113967  16281   \n",
       "..              ...          ...     ...                      ...    ...   \n",
       "135               6            3      15                      791    113   \n",
       "136               6            8      16                      945    135   \n",
       "137               6            5      17                      882    126   \n",
       "138               6            6      22                      980    140   \n",
       "139               6            5      17                      882    126   \n",
       "\n",
       "          risk    risk_S1  abs_reduction  rel_reduction  \n",
       "0     6.778461   5.317329       1.461132      21.555516  \n",
       "1     6.629756   5.241434       1.388322      20.940773  \n",
       "2     6.971850   6.021441       0.950409      13.632087  \n",
       "3     6.629756   5.782106       0.847650      12.785544  \n",
       "4     6.607176   5.782106       0.825070      12.487482  \n",
       "..         ...        ...            ...            ...  \n",
       "135  18.963338  13.906448       5.056890      26.666667  \n",
       "136  16.931217  15.873016       1.058201       6.250000  \n",
       "137  19.274376  17.006803       2.267574      11.764706  \n",
       "138  22.448980  19.875776       2.573203      11.462451  \n",
       "139  19.274376  17.006803       2.267574      11.764706  \n",
       "\n",
       "[140 rows x 9 columns]"
      ]
     },
     "execution_count": 8,
     "metadata": {},
     "output_type": "execute_result"
    }
   ],
   "source": [
    "risk_df"
   ]
  },
  {
   "cell_type": "markdown",
   "id": "5cb5facc-124b-4672-b8f6-82fab1a48a9f",
   "metadata": {},
   "source": [
    "## Abs"
   ]
  },
  {
   "cell_type": "code",
   "execution_count": 11,
   "id": "dafaaf7a-dc39-4522-91f0-61e25953e9da",
   "metadata": {},
   "outputs": [
    {
     "name": "stderr",
     "output_type": "stream",
     "text": [
      "C:\\Users\\jackz\\AppData\\Local\\Temp\\ipykernel_56072\\571397031.py:3: UserWarning: The palette list has more values (16) than needed (7), which may not be intended.\n",
      "  bar_ax = sns.boxplot(\n"
     ]
    },
    {
     "data": {
      "image/png": "[encoded data removed]",
      "text/plain": [
       "<Figure size 640x480 with 1 Axes>"
      ]
     },
     "metadata": {},
     "output_type": "display_data"
    },
    {
     "data": {
      "text/plain": [
       "<Figure size 640x480 with 0 Axes>"
      ]
     },
     "metadata": {},
     "output_type": "display_data"
    }
   ],
   "source": [
    "# Age Abs Reduction\n",
    "##########################################################################################\n",
    "bar_ax = sns.boxplot(\n",
    "    x=risk_df[\"init_age_group\"],\n",
    "    y=risk_df[\"abs_reduction\"],\n",
    "    palette=palette,\n",
    "    whis = (2.5,97.5),\n",
    "    showfliers=False,\n",
    "    hue=risk_df[\"init_age_group\"],\n",
    ")\n",
    "\n",
    "bar_ax.set_ylabel(\n",
    "    \"Absolute percentage point risk reduction in incident diabetes\\n diagnosis (per 1,000 pys) with vs. without the intervention\",\n",
    "    fontsize=font_size,\n",
    ")\n",
    "bar_ax.set_xlabel(\"Age Group at ART Initiation\", fontsize = font_size, labelpad = 10)\n",
    "bar_ax.set_xticks(range(0, 7))\n",
    "bar_ax.set_xticklabels([\"<20\", \"20-29\", \"30-39\", \"40-49\", \"50-59\", \"60-69\", \"70+\"])\n",
    "\n",
    "bar_ax.get_legend().remove()\n",
    "bar_fig = bar_ax.get_figure()\n",
    "bar_fig.savefig(out_dir / \"bmi_age_group_risk/age_group_abs_reduction.png\", bbox_inches=\"tight\", dpi=1000)\n",
    "plt.show()\n",
    "plt.clf()\n",
    "\n",
    "df = (\n",
    "    risk_df.groupby(\"init_age_group\")[[\"abs_reduction\"]]\n",
    "    .quantile([0.025, 0.5, 0.975])\n",
    "    .unstack()\n",
    "    .reset_index()\n",
    ")\n",
    "df.columns = [\"group\", 0.025, 0.5, 0.975]\n",
    "df[\"formatted\"] = df.apply(\n",
    "    lambda row: f\"{row[0.50]:.1f} [{row[0.025]:.1f} - {row[0.975]:.1f}]\", axis=1\n",
    ")\n",
    "df = rearrange_group_order(df)\n",
    "df.to_csv(out_dir / \"bmi_age_group_risk/age_group_abs_risk_reduction_table.csv\")"
   ]
  },
  {
   "cell_type": "markdown",
   "id": "852c92a8-5fd6-4121-b868-6a7e8273861a",
   "metadata": {},
   "source": [
    "## Rel"
   ]
  },
  {
   "cell_type": "code",
   "execution_count": 13,
   "id": "c4221a19-7402-4b02-a26b-c0e0ef75f5e0",
   "metadata": {},
   "outputs": [
    {
     "name": "stderr",
     "output_type": "stream",
     "text": [
      "C:\\Users\\jackz\\AppData\\Local\\Temp\\ipykernel_56072\\3808244147.py:3: UserWarning: The palette list has more values (16) than needed (7), which may not be intended.\n",
      "  bar_ax = sns.boxplot(\n"
     ]
    },
    {
     "data": {
      "image/png": "[encoded data removed]",
      "text/plain": [
       "<Figure size 640x480 with 1 Axes>"
      ]
     },
     "metadata": {},
     "output_type": "display_data"
    },
    {
     "data": {
      "text/plain": [
       "<Figure size 640x480 with 0 Axes>"
      ]
     },
     "metadata": {},
     "output_type": "display_data"
    }
   ],
   "source": [
    "# Age Rel Reduction\n",
    "##########################################################################################\n",
    "bar_ax = sns.boxplot(\n",
    "    x=risk_df[\"init_age_group\"],\n",
    "    y=risk_df[\"rel_reduction\"],\n",
    "    palette=palette,\n",
    "    whis = (2.5,97.5),\n",
    "    showfliers=False,\n",
    "    hue=risk_df[\"init_age_group\"],\n",
    ")\n",
    "bar_ax.set_ylabel(\n",
    "    \"Relative 5-year risk reduction in incident DM diagnoses \\n with (vs. without) the intervention\",\n",
    "    fontsize=font_size,\n",
    ")\n",
    "bar_ax.set_xlabel(\"Age Group at ART Initiation\", fontsize = font_size, labelpad = 8)\n",
    "bar_ax.set_xticks(range(0, 7))\n",
    "bar_ax.set_xticklabels([\"<20\", \"20-29\", \"30-39\", \"40-49\", \"50-59\", \"60-69\", \"70+\"])\n",
    "\n",
    "bar_ax.get_legend().remove()\n",
    "bar_fig = bar_ax.get_figure()\n",
    "bar_fig.savefig(out_dir / \"bmi_age_group_risk/age_group_rel_reduction.png\", bbox_inches=\"tight\", dpi=1000)\n",
    "plt.show()\n",
    "plt.clf()\n",
    "\n",
    "df = (\n",
    "    risk_df.groupby(\"init_age_group\")[[\"rel_reduction\"]]\n",
    "    .quantile([0.025, 0.5, 0.975])\n",
    "    .unstack()\n",
    "    .reset_index()\n",
    ")\n",
    "df.columns = [\"group\", 0.025, 0.5, 0.975]\n",
    "df[\"formatted\"] = df.apply(\n",
    "    lambda row: f\"{row[0.50]:.1f} [{row[0.025]:.1f} - {row[0.975]:.1f}]\", axis=1\n",
    ")\n",
    "df = rearrange_group_order(df)\n",
    "df.to_csv(out_dir / \"bmi_age_group_risk/age_group_rel_risk_reduction_table.csv\")"
   ]
  },
  {
   "cell_type": "markdown",
   "id": "867b500f-298d-4ee2-87c8-2810fd06eadd",
   "metadata": {},
   "source": [
    "# BMI Group"
   ]
  },
  {
   "cell_type": "code",
   "execution_count": 3,
   "id": "e0013f49-a585-4b7e-b15e-7330f26e7d0f",
   "metadata": {},
   "outputs": [],
   "source": [
    "##################################################################################################################################\n",
    "# we will look at the \"bmi_int_dm_prev.h5\" for S0\n",
    "bmi_int_dm_prev = dd.read_parquet(baseline_dir / \"bmi_cat_final_output.parquet\").reset_index()\n",
    "\n",
    "# Add Overall\n",
    "all_but_group = list(bmi_int_dm_prev.columns[1:])\n",
    "bmi_int_dm_prev_overall = bmi_int_dm_prev.groupby(all_but_group).sum().reset_index()\n",
    "bmi_int_dm_prev_overall[\"group\"] = \"overall\"\n",
    "bmi_int_dm_prev = dd.concat([bmi_int_dm_prev, bmi_int_dm_prev_overall], ignore_index=True)\n",
    "\n",
    "# type the dataframe for space efficiency\n",
    "bmi_int_dm_prev = bmi_int_dm_prev.astype(\n",
    "    {\n",
    "        \"group\": \"str\",\n",
    "        \"replication\": \"int16\",\n",
    "        \"bmiInt_scenario\": np.int8,\n",
    "        \"h1yy\": np.int16,\n",
    "        \"init_bmi_group\": np.int8,\n",
    "        \"bmiInt_impacted\": bool,\n",
    "        \"dm\": bool,\n",
    "        \"t_dm\": np.int16,\n",
    "        \"n\": np.int16,\n",
    "    }\n",
    ")\n",
    "\n",
    "# clean to control specifications\n",
    "control_bmi_int_dm_prev = clean_control(bmi_int_dm_prev, only_eligible=True, only_received = True)\n",
    "\n",
    "dm_risk_table = calc_overall_bmi_risk(control_bmi_int_dm_prev).compute()"
   ]
  },
  {
   "cell_type": "code",
   "execution_count": 4,
   "id": "48ba1fd9-d050-4f65-a287-37ebb3075e1c",
   "metadata": {},
   "outputs": [],
   "source": [
    "##################################################################################################################################\n",
    "# we will look at the \"bmi_int_dm_prev.h5\" for S0\n",
    "bmi_int_dm_prev = dd.read_parquet(variable_dir / \"bmi_cat_final_output.parquet\").reset_index()\n",
    "\n",
    "# Add Overall\n",
    "all_but_group = list(bmi_int_dm_prev.columns[1:])\n",
    "bmi_int_dm_prev_overall = bmi_int_dm_prev.groupby(all_but_group).sum().reset_index()\n",
    "bmi_int_dm_prev_overall[\"group\"] = \"overall\"\n",
    "bmi_int_dm_prev = dd.concat([bmi_int_dm_prev, bmi_int_dm_prev_overall], ignore_index=True)\n",
    "\n",
    "# type the dataframe for space efficiency\n",
    "bmi_int_dm_prev = bmi_int_dm_prev.astype(\n",
    "    {\n",
    "        \"group\": \"str\",\n",
    "        \"replication\": \"int16\",\n",
    "        \"bmiInt_scenario\": np.int8,\n",
    "        \"h1yy\": np.int16,\n",
    "        \"init_bmi_group\": np.int8,\n",
    "        \"bmiInt_impacted\": bool,\n",
    "        \"dm\": bool,\n",
    "        \"t_dm\": np.int16,\n",
    "        \"n\": np.int16,\n",
    "    }\n",
    ")\n",
    "\n",
    "# clean to control specifications\n",
    "control_bmi_int_dm_prev = clean_control(bmi_int_dm_prev, only_eligible=True, only_received = True)\n",
    "\n",
    "# Figure 2A\n",
    "dm_risk_table_S1 = calc_overall_bmi_risk(control_bmi_int_dm_prev).compute()"
   ]
  },
  {
   "cell_type": "code",
   "execution_count": 5,
   "id": "fa2e96f1-dbe5-4d04-b3d8-a79ce0bdff79",
   "metadata": {},
   "outputs": [
    {
     "name": "stderr",
     "output_type": "stream",
     "text": [
      "C:\\Users\\jackz\\AppData\\Local\\Temp\\ipykernel_53584\\515529097.py:3: DeprecationWarning: DataFrameGroupBy.apply operated on the grouping columns. This behavior is deprecated, and in a future version of pandas the grouping columns will be excluded from the operation. Either pass `include_groups=False` to exclude the groupings or explicitly select the grouping columns after groupby to silence this warning.\n",
      "  .apply(lambda x: x.sample(20, replace=True))\n",
      "C:\\Users\\jackz\\AppData\\Local\\Temp\\ipykernel_53584\\515529097.py:9: DeprecationWarning: DataFrameGroupBy.apply operated on the grouping columns. This behavior is deprecated, and in a future version of pandas the grouping columns will be excluded from the operation. Either pass `include_groups=False` to exclude the groupings or explicitly select the grouping columns after groupby to silence this warning.\n",
      "  .apply(lambda x: x.sample(20, replace=True))\n"
     ]
    }
   ],
   "source": [
    "S0_sample = (\n",
    "        dm_risk_table.groupby(\"init_bmi_group\")\n",
    "        .apply(lambda x: x.sample(20, replace=True))\n",
    "        .reset_index(drop=True)\n",
    "    )\n",
    "\n",
    "S1_sample = (\n",
    "        dm_risk_table_S1.groupby(\"init_bmi_group\")\n",
    "        .apply(lambda x: x.sample(20, replace=True))\n",
    "        .reset_index(drop=True)\n",
    "    )\n",
    "\n",
    "S0_sample = S0_sample.sort_values(by = 'init_bmi_group').reset_index(drop = True)\n",
    "S1_sample = S1_sample.sort_values(by = 'init_bmi_group').reset_index(drop = True)\n",
    "\n",
    "risk_df = S0_sample.copy()\n",
    "risk_df['risk_S1'] =S1_sample['risk']\n",
    "\n",
    "risk_df['abs_reduction'] = risk_df['risk'] - risk_df['risk_S1']\n",
    "risk_df['rel_reduction'] = (risk_df['risk'] - risk_df['risk_S1'])/risk_df['risk'] * 100"
   ]
  },
  {
   "cell_type": "code",
   "execution_count": 6,
   "id": "86be1c71-c561-4471-8625-340e31608b6a",
   "metadata": {},
   "outputs": [],
   "source": [
    "pre_art_bmi_bins = [0, 18.5, 20, 21, 22, 23, 24, 25, 26, 27, 28, 29, 30, float(\"inf\")]\n",
    "# Create a label map\n",
    "bmi_group_map = {i: f\"[{pre_art_bmi_bins[i]}-{pre_art_bmi_bins[i+1]})\" for i in range(len(pre_art_bmi_bins) - 1)}\n",
    "bmi_group_map[12] = '> 30'\n",
    "group_order = list(bmi_group_map.values())\n",
    "\n",
    "risk_df[\"init_bmi_group\"] = risk_df[\"init_bmi_group\"].map(bmi_group_map)"
   ]
  },
  {
   "cell_type": "markdown",
   "id": "85f7ac5f-5d67-4b86-be2f-8b4c88f1cade",
   "metadata": {},
   "source": [
    "## Abs"
   ]
  },
  {
   "cell_type": "code",
   "execution_count": 7,
   "id": "9e0f5b59-9e4e-4e63-adb2-5a35c2327926",
   "metadata": {},
   "outputs": [
    {
     "name": "stderr",
     "output_type": "stream",
     "text": [
      "C:\\Users\\jackz\\AppData\\Local\\Temp\\ipykernel_53584\\462681779.py:3: UserWarning: The palette list has more values (16) than needed (11), which may not be intended.\n",
      "  bar_ax = sns.boxplot(\n"
     ]
    },
    {
     "data": {
      "image/png": "[encoded data removed]",
      "text/plain": [
       "<Figure size 640x480 with 1 Axes>"
      ]
     },
     "metadata": {},
     "output_type": "display_data"
    },
    {
     "data": {
      "text/plain": [
       "<Figure size 640x480 with 0 Axes>"
      ]
     },
     "metadata": {},
     "output_type": "display_data"
    }
   ],
   "source": [
    "# BMI Group Abs Reduction\n",
    "#########################################################################################################################\n",
    "bar_ax = sns.boxplot(\n",
    "    x=risk_df[\"init_bmi_group\"],\n",
    "    y=risk_df[\"abs_reduction\"],\n",
    "    palette=palette,\n",
    "    whis = (2.5,97.5),\n",
    "    showfliers=False,\n",
    "    hue=risk_df[\"init_bmi_group\"],\n",
    "    order = group_order[1:-1],\n",
    "    )\n",
    "bar_ax.set_ylabel(\n",
    "    \"Absolute percentage point risk reduction in incident diabetes\\n diagnosis (per 1,000 pys) with vs. without the intervention\",\n",
    "    fontsize=font_size,\n",
    ")\n",
    "bar_ax.set_xlabel(\"BMI Group at ART Initiation\", fontsize = font_size)\n",
    "bar_ax.tick_params(axis=\"x\", rotation=90)\n",
    "bar_fig = bar_ax.get_figure()\n",
    "bar_fig.savefig(out_dir / \"bmi_age_group_risk/bmi_group_abs_reduction.png\", bbox_inches=\"tight\", dpi=1000)\n",
    "plt.show()\n",
    "plt.clf()\n",
    "\n",
    "df = (\n",
    "    risk_df.groupby(\"init_bmi_group\")[[\"abs_reduction\"]]\n",
    "    .quantile([0.025, 0.5, 0.975])\n",
    "    .unstack()\n",
    "    .reset_index()\n",
    ")\n",
    "df.columns = [\"group\", 0.025, 0.5, 0.975]\n",
    "df[\"formatted\"] = df.apply(\n",
    "    lambda row: f\"{row[0.50]:.1f} [{row[0.025]:.1f} - {row[0.975]:.1f}]\", axis=1\n",
    ")\n",
    "\n",
    "df.to_csv(out_dir / \"bmi_age_group_risk/bmi_group_abs_risk_reduction_table.csv\")"
   ]
  },
  {
   "cell_type": "markdown",
   "id": "14e7d2e0-cdaf-4289-8da7-5382e405e72f",
   "metadata": {},
   "source": [
    "## Rel"
   ]
  },
  {
   "cell_type": "code",
   "execution_count": 8,
   "id": "e055d2c4-a5cb-489d-849a-666b2d1d1429",
   "metadata": {},
   "outputs": [
    {
     "name": "stderr",
     "output_type": "stream",
     "text": [
      "C:\\Users\\jackz\\AppData\\Local\\Temp\\ipykernel_53584\\2997830612.py:3: UserWarning: The palette list has more values (16) than needed (11), which may not be intended.\n",
      "  bar_ax = sns.boxplot(\n"
     ]
    },
    {
     "data": {
      "image/png": "[encoded data removed]",
      "text/plain": [
       "<Figure size 640x480 with 1 Axes>"
      ]
     },
     "metadata": {},
     "output_type": "display_data"
    },
    {
     "data": {
      "text/plain": [
       "<Figure size 640x480 with 0 Axes>"
      ]
     },
     "metadata": {},
     "output_type": "display_data"
    }
   ],
   "source": [
    "# BMI Group Rel Reduction\n",
    "#########################################################################################################################\n",
    "bar_ax = sns.boxplot(\n",
    "        x=risk_df[\"init_bmi_group\"],\n",
    "        y=risk_df[\"rel_reduction\"],\n",
    "        palette=palette,\n",
    "        whis = (2.5,97.5),\n",
    "        showfliers=False,\n",
    "        hue=risk_df[\"init_bmi_group\"],\n",
    "        order = group_order[1:-1],\n",
    "    )\n",
    "bar_ax.set_ylabel(\n",
    "    \"Relative 5-year risk reduction in incident DM diagnoses \\n with (vs. without) the intervention\",\n",
    "    fontsize=font_size,\n",
    ")\n",
    "bar_ax.set_xlabel(\"BMI Group at ART Initiation\", fontsize = font_size)\n",
    "bar_ax.tick_params(axis=\"x\", rotation=90)\n",
    "bar_fig = bar_ax.get_figure()\n",
    "bar_fig.savefig(out_dir / \"bmi_age_group_risk/bmi_group_rel_reduction.png\", bbox_inches=\"tight\", dpi=1000)\n",
    "plt.show()\n",
    "plt.clf()\n",
    "\n",
    "df = (\n",
    "    risk_df.groupby(\"init_bmi_group\")[[\"rel_reduction\"]]\n",
    "    .quantile([0.025, 0.5, 0.975])\n",
    "    .unstack()\n",
    "    .reset_index()\n",
    ")\n",
    "df.columns = [\"group\", 0.025, 0.5, 0.975]\n",
    "df[\"formatted\"] = df.apply(\n",
    "    lambda row: f\"{row[0.50]:.1f} [{row[0.025]:.1f} - {row[0.975]:.1f}]\", axis=1\n",
    ")\n",
    "\n",
    "# to save output\n",
    "df.to_csv(out_dir / \"bmi_age_group_risk/bmi_group_rel_risk_reduction_table.csv\")"
   ]
  }
 ],
 "metadata": {
  "kernelspec": {
   "display_name": "Python 3 (ipykernel)",
   "language": "python",
   "name": "python3"
  },
  "language_info": {
   "codemirror_mode": {
    "name": "ipython",
    "version": 3
   },
   "file_extension": ".py",
   "mimetype": "text/x-python",
   "name": "python",
   "nbconvert_exporter": "python",
   "pygments_lexer": "ipython3",
   "version": "3.11.9"
  }
 },
 "nbformat": 4,
 "nbformat_minor": 5
}
